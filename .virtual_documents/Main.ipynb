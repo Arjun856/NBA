import nbformat
from nbconvert.preprocessors import ExecutePreprocessor
import os

def run_notebook(notebook_path):
    """
    Execute a Jupyter notebook programmatically.

    :param notebook_path: Path to the notebook file.
    """
    with open(notebook_path, 'r', encoding='utf-8') as nb_file:
        notebook = nbformat.read(nb_file, as_version=4)
        executor = ExecutePreprocessor(timeout=600, kernel_name='python3')
        try:
            executor.preprocess(notebook, {'metadata': {'path': os.path.dirname(notebook_path)}})
            print(f"Executed {notebook_path} successfully.")
        except Exception as e:
            print(f"Error executing {notebook_path}: {e}")

# List of notebooks to run
notebooks = [
    'Data Collection.ipynb',
    'Feature Engineering.ipynb',
    'Linear Regression Model.ipynb'
    'Rolling-Expanding Window.ipynb'
    'Time-Based Splits.ipynb'
    'Predictions.ipynb'
]

# Execute each notebook
for notebook in notebooks:
    run_notebook(notebook)




