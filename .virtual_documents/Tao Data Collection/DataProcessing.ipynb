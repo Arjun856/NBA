# -----------------------------------------
# Import Packages
# -----------------------------------------
import os
from datetime import datetime, timezone

import sqlite3
from sqlalchemy import create_engine
from nba_api.stats.endpoints import playergamelogs


# Delete G-League Data
conn = sqlite3.connect("nba_box_scores.db")
# Execute the query
cursor = conn.cursor()
cursor.execute("DELETE FROM game_details WHERE GAME_ID > 2000000000;")
cursor.execute("DELETE FROM player_stats WHERE GAME_ID > 2000000000;")
cursor.execute("DELETE FROM team_stats WHERE GAME_ID > 2000000000;")
cursor.execute("DELETE FROM inactive_players WHERE GAME_ID > 2000000000;")
cursor.execute("DELETE FROM player_basic_stats WHERE GAME_ID > 2000000000;")
cursor.execute("DELETE FROM team_basic_stats WHERE GAME_ID > 2000000000;")
conn.commit()  # Commit changes to the database
print("G League Data Deleted")

