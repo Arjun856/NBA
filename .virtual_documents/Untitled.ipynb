import tensorflow as tf

# Check TensorFlow version
print("TensorFlow Version:", tf.__version__)

# List available physical devices
print("Available Devices:", tf.config.list_physical_devices())

# Check if TensorFlow is using the GPU
print("Is GPU Available:", tf.test.is_gpu_available())



