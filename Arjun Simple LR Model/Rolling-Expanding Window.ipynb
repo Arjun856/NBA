{
 "cells": [
  {
   "cell_type": "code",
   "execution_count": 1,
   "id": "9dbd8d7b-fb37-49c1-aa0c-6dd531948cb5",
   "metadata": {},
   "outputs": [],
   "source": [
    "import pandas as pd\n",
    "from sqlalchemy import create_engine\n",
    "from sklearn.linear_model import LinearRegression\n",
    "from sklearn.metrics import mean_absolute_error, mean_squared_error\n",
    "import numpy as np"
   ]
  },
  {
   "cell_type": "code",
   "execution_count": 2,
   "id": "0f4e92a8-5e9b-4403-b4e8-3c30ddae6010",
   "metadata": {},
   "outputs": [],
   "source": [
    "# ------------------------------------------------------------\n",
    "# Configuration\n",
    "# ------------------------------------------------------------\n",
    "DB_NAME = \"nba_data.db\"\n",
    "DB_URI = f\"sqlite:///{DB_NAME}\"\n",
    "engine = create_engine(DB_URI, echo=False)"
   ]
  },
  {
   "cell_type": "code",
   "execution_count": 3,
   "id": "4cfe30fd-392d-475c-a913-5f7ff59f6a46",
   "metadata": {},
   "outputs": [],
   "source": [
    "# ------------------------------------------------------------\n",
    "# Load Data & Sort\n",
    "# ------------------------------------------------------------\n",
    "df = pd.read_sql(\"SELECT * FROM player_game_features\", engine)\n",
    "\n",
    "# Ensure data is sorted by player and date\n",
    "df = df.sort_values(by=[\"player_id\", \"game_date\"])\n",
    "\n",
    "# Extract the season or year from 'game_date'. \n",
    "# Assuming 'game_date' is in a format like \"YYYY-MM-DD\".\n",
    "df['game_year'] = pd.to_datetime(df['game_date']).dt.year\n",
    "\n",
    "# Features and target as before\n",
    "features = [\n",
    "    \"trailing_pts_5\",\n",
    "    \"trailing_min_5\",\n",
    "    \"trailing_fg_pct_5\",\n",
    "    \"trailing_ppm_5\",\n",
    "    \"trailing_fgm_5\",\n",
    "    \"trailing_fga_5\",\n",
    "]\n",
    "\n",
    "df = df.dropna(subset=features + [\"pts\"])\n",
    "\n",
    "X = df[features]\n",
    "y = df[\"pts\"]"
   ]
  },
  {
   "cell_type": "code",
   "execution_count": 4,
   "id": "fcb13963-1191-4e46-9069-f683e0f729f1",
   "metadata": {},
   "outputs": [
    {
     "name": "stdout",
     "output_type": "stream",
     "text": [
      "Available Years in Data: [2015, 2016, 2017, 2018, 2019, 2020, 2021, 2022, 2023]\n",
      "Validation Year: 2019\n",
      "Train Years: 2015 to 2018\n",
      "MAE:  4.67\n",
      "RMSE: 6.10\n",
      "\n",
      "Validation Year: 2020\n",
      "Train Years: 2016 to 2019\n",
      "MAE:  4.74\n",
      "RMSE: 6.17\n",
      "\n",
      "Validation Year: 2021\n",
      "Train Years: 2017 to 2020\n",
      "MAE:  4.62\n",
      "RMSE: 6.02\n",
      "\n",
      "Validation Year: 2022\n",
      "Train Years: 2018 to 2021\n",
      "MAE:  4.78\n",
      "RMSE: 6.22\n",
      "\n",
      "Validation Year: 2023\n",
      "Train Years: 2019 to 2022\n",
      "MAE:  4.78\n",
      "RMSE: 6.30\n",
      "\n"
     ]
    }
   ],
   "source": [
    "# ------------------------------------------------------------\n",
    "# Rolling/Expanding Window Validation\n",
    "# ------------------------------------------------------------\n",
    "# Let's define which years to use for training and validation:\n",
    "# For example:\n",
    "#  - Train on 2016-2019, validate on 2020\n",
    "#  - Train on 2017-2020, validate on 2021\n",
    "\n",
    "# First, find the range of years available\n",
    "available_years = sorted(df['game_year'].unique())\n",
    "print(\"Available Years in Data:\", available_years)\n",
    "\n",
    "# We will define a 4-year rolling window for training.\n",
    "training_window = 4\n",
    "\n",
    "mae_scores = []\n",
    "rmse_scores = []\n",
    "years_tested = []\n",
    "\n",
    "# Identify the range of years we can validate on. \n",
    "# If we start at 2020, that means we must have at least 2016-2019 available for training.\n",
    "# So for each validation year, we look back training_window years.\n",
    "for validate_year in available_years:\n",
    "    start_train_year = validate_year - training_window\n",
    "    # Check if we have enough years in the past to train on\n",
    "    if start_train_year < available_years[0]:\n",
    "        # Not enough past years to train on\n",
    "        continue\n",
    "    # Ensure that all those past years exist\n",
    "    if not all(y in available_years for y in range(start_train_year, validate_year)):\n",
    "        # If we don't have a continuous range of data\n",
    "        continue\n",
    "\n",
    "    # Define training and validation sets by year\n",
    "    train_mask = (df['game_year'] >= start_train_year) & (df['game_year'] < validate_year)\n",
    "    val_mask = (df['game_year'] == validate_year)\n",
    "\n",
    "    X_train, y_train = X[train_mask], y[train_mask]\n",
    "    X_val, y_val = X[val_mask], y[val_mask]\n",
    "\n",
    "    # If val set is empty or train set is empty, skip\n",
    "    if len(X_train) == 0 or len(X_val) == 0:\n",
    "        continue\n",
    "\n",
    "    # Train a simple model\n",
    "    model = LinearRegression()\n",
    "    model.fit(X_train, y_train)\n",
    "\n",
    "    # Predict on the validation year\n",
    "    y_pred = model.predict(X_val)\n",
    "\n",
    "    mae = mean_absolute_error(y_val, y_pred)\n",
    "    mse = mean_squared_error(y_val, y_pred)\n",
    "    rmse = np.sqrt(mse)\n",
    "\n",
    "    mae_scores.append(mae)\n",
    "    rmse_scores.append(rmse)\n",
    "    years_tested.append(validate_year)\n",
    "\n",
    "    print(f\"Validation Year: {validate_year}\")\n",
    "    print(f\"Train Years: {start_train_year} to {validate_year-1}\")\n",
    "    print(f\"MAE:  {mae:.2f}\")\n",
    "    print(f\"RMSE: {rmse:.2f}\\n\")"
   ]
  },
  {
   "cell_type": "code",
   "execution_count": 5,
   "id": "92843745-20ee-4e1a-89a0-65eb3ba9ca96",
   "metadata": {},
   "outputs": [
    {
     "name": "stdout",
     "output_type": "stream",
     "text": [
      "Summary of Rolling Window Validation:\n",
      "Year: 2019, MAE: 4.67, RMSE: 6.10\n",
      "Year: 2020, MAE: 4.74, RMSE: 6.17\n",
      "Year: 2021, MAE: 4.62, RMSE: 6.02\n",
      "Year: 2022, MAE: 4.78, RMSE: 6.22\n",
      "Year: 2023, MAE: 4.78, RMSE: 6.30\n",
      "\n",
      "Average MAE: 4.717348697890576\n",
      "Average RMSE: 6.1617040299817845\n"
     ]
    }
   ],
   "source": [
    "# ------------------------------------------------------------\n",
    "# Aggregate Results\n",
    "# ------------------------------------------------------------\n",
    "if len(years_tested) > 0:\n",
    "    print(\"Summary of Rolling Window Validation:\")\n",
    "    for yr, mae_score, rmse_score in zip(years_tested, mae_scores, rmse_scores):\n",
    "        print(f\"Year: {yr}, MAE: {mae_score:.2f}, RMSE: {rmse_score:.2f}\")\n",
    "\n",
    "    print(\"\\nAverage MAE:\", np.mean(mae_scores))\n",
    "    print(\"Average RMSE:\", np.mean(rmse_scores))\n",
    "else:\n",
    "    print(\"No rolling window validation was performed (check available data and logic).\")"
   ]
  },
  {
   "cell_type": "code",
   "execution_count": null,
   "id": "7405df57-1bae-4b9c-8c29-af4a54d78772",
   "metadata": {},
   "outputs": [],
   "source": []
  }
 ],
 "metadata": {
  "kernelspec": {
   "display_name": "Python 3 (ipykernel)",
   "language": "python",
   "name": "python3"
  },
  "language_info": {
   "codemirror_mode": {
    "name": "ipython",
    "version": 3
   },
   "file_extension": ".py",
   "mimetype": "text/x-python",
   "name": "python",
   "nbconvert_exporter": "python",
   "pygments_lexer": "ipython3",
   "version": "3.9.18"
  }
 },
 "nbformat": 4,
 "nbformat_minor": 5
}
