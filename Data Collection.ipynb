{
 "cells": [
  {
   "cell_type": "code",
   "execution_count": 3,
   "id": "0d5601a6-6153-46a7-9497-2a87c517a246",
   "metadata": {},
   "outputs": [],
   "source": [
    "#Import Packages\n",
    "import os\n",
    "from datetime import datetime\n",
    "\n",
    "import pandas as pd\n",
    "from sqlalchemy import create_engine\n",
    "from nba_api.stats.endpoints import playergamelogs, teamgamelogs"
   ]
  },
  {
   "cell_type": "code",
   "execution_count": 2,
   "id": "d289a2e7-80dc-4b65-87b5-53cf15372667",
   "metadata": {},
   "outputs": [],
   "source": [
    "# -----------------------------------------\n",
    "# Configuration\n",
    "# -----------------------------------------\n",
    "DB_NAME = \"nba_data.db\"\n",
    "SEASON = \"2022-23\"  # Adjust as needed, format: \"YYYY-YY\"\n",
    "SEASON_TYPE = \"Regular Season\"  # Could also be \"Playoffs\"\n",
    "DB_URI = f\"sqlite:///{DB_NAME}\""
   ]
  },
  {
   "cell_type": "code",
   "execution_count": 4,
   "id": "5d410825-9afe-4cf5-85e9-304a44088e54",
   "metadata": {},
   "outputs": [],
   "source": [
    "# Create SQLAlchemy engine\n",
    "engine = create_engine(DB_URI, echo=False)"
   ]
  },
  {
   "cell_type": "code",
   "execution_count": 5,
   "id": "5579b3be-7465-4b1c-af69-96135c105fdf",
   "metadata": {},
   "outputs": [],
   "source": [
    "# -----------------------------------------\n",
    "# Utility Functions\n",
    "# -----------------------------------------\n",
    "def store_dataframe(df: pd.DataFrame, table_name: str, engine, if_exists=\"append\"):\n",
    "    \"\"\"\n",
    "    Store DataFrame into a SQL table.\n",
    "    \"\"\"\n",
    "    # Ensure normalized column names (lowercase, underscores)\n",
    "    df.columns = [c.lower() for c in df.columns]\n",
    "    df.to_sql(table_name, engine, if_exists=if_exists, index=False)\n",
    "    print(f\"Stored {len(df)} records into '{table_name}' table.\")"
   ]
  },
  {
   "cell_type": "code",
   "execution_count": 6,
   "id": "fe22d4cc-1a03-45a7-aea7-fd0edae6acaf",
   "metadata": {},
   "outputs": [
    {
     "ename": "TypeError",
     "evalue": "PlayerGameLogs.__init__() got an unexpected keyword argument 'season'",
     "output_type": "error",
     "traceback": [
      "\u001b[1;31m---------------------------------------------------------------------------\u001b[0m",
      "\u001b[1;31mTypeError\u001b[0m                                 Traceback (most recent call last)",
      "Cell \u001b[1;32mIn[6], line 6\u001b[0m\n\u001b[0;32m      1\u001b[0m \u001b[38;5;66;03m# -----------------------------------------\u001b[39;00m\n\u001b[0;32m      2\u001b[0m \u001b[38;5;66;03m# Extract Data\u001b[39;00m\n\u001b[0;32m      3\u001b[0m \u001b[38;5;66;03m# -----------------------------------------\u001b[39;00m\n\u001b[0;32m      4\u001b[0m \n\u001b[0;32m      5\u001b[0m \u001b[38;5;66;03m# 1. Player Game Logs\u001b[39;00m\n\u001b[1;32m----> 6\u001b[0m player_gamelogs_endpoint \u001b[38;5;241m=\u001b[39m \u001b[43mplayergamelogs\u001b[49m\u001b[38;5;241;43m.\u001b[39;49m\u001b[43mPlayerGameLogs\u001b[49m\u001b[43m(\u001b[49m\n\u001b[0;32m      7\u001b[0m \u001b[43m    \u001b[49m\u001b[43mseason\u001b[49m\u001b[38;5;241;43m=\u001b[39;49m\u001b[43mSEASON\u001b[49m\u001b[43m,\u001b[49m\n\u001b[0;32m      8\u001b[0m \u001b[43m    \u001b[49m\u001b[43mseason_type_all_star\u001b[49m\u001b[38;5;241;43m=\u001b[39;49m\u001b[43mSEASON_TYPE\u001b[49m\n\u001b[0;32m      9\u001b[0m \u001b[43m)\u001b[49m\n\u001b[0;32m     10\u001b[0m player_game_df \u001b[38;5;241m=\u001b[39m player_gamelogs_endpoint\u001b[38;5;241m.\u001b[39mget_data_frames()[\u001b[38;5;241m0\u001b[39m]\n\u001b[0;32m     12\u001b[0m \u001b[38;5;66;03m# 2. Team Game Logs\u001b[39;00m\n",
      "\u001b[1;31mTypeError\u001b[0m: PlayerGameLogs.__init__() got an unexpected keyword argument 'season'"
     ]
    }
   ],
   "source": [
    "# -----------------------------------------\n",
    "# Extract Data\n",
    "# -----------------------------------------\n",
    "\n",
    "# 1. Player Game Logs\n",
    "player_gamelogs_endpoint = playergamelogs.PlayerGameLogs(\n",
    "    season=SEASON,\n",
    "    season_type_all_star=SEASON_TYPE\n",
    ")\n",
    "player_game_df = player_gamelogs_endpoint.get_data_frames()[0]\n",
    "\n",
    "# 2. Team Game Logs\n",
    "team_gamelogs_endpoint = teamgamelogs.TeamGameLogs(\n",
    "    season=SEASON,\n",
    "    season_type_all_star=SEASON_TYPE\n",
    ")\n",
    "team_game_df = team_gamelogs_endpoint.get_data_frames()[0]"
   ]
  },
  {
   "cell_type": "code",
   "execution_count": null,
   "id": "d6cc4bea-53f0-4762-8a27-71482be6c31b",
   "metadata": {},
   "outputs": [],
   "source": []
  }
 ],
 "metadata": {
  "kernelspec": {
   "display_name": "NBA",
   "language": "python",
   "name": "nba"
  },
  "language_info": {
   "codemirror_mode": {
    "name": "ipython",
    "version": 3
   },
   "file_extension": ".py",
   "mimetype": "text/x-python",
   "name": "python",
   "nbconvert_exporter": "python",
   "pygments_lexer": "ipython3",
   "version": "3.13.1"
  }
 },
 "nbformat": 4,
 "nbformat_minor": 5
}
