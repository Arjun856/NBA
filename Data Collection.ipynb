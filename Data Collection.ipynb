{
 "cells": [
  {
   "cell_type": "code",
<<<<<<< Updated upstream:Data Collection.ipynb
   "execution_count": 20,
=======
   "execution_count": 1,
>>>>>>> Stashed changes:Data Collection/PlayerDataCollection.ipynb
   "id": "0d5601a6-6153-46a7-9497-2a87c517a246",
   "metadata": {},
   "outputs": [],
   "source": [
    "# -----------------------------------------\n",
    "# Import Packages\n",
    "# -----------------------------------------\n",
    "import os\n",
    "from datetime import datetime, timezone\n",
    "\n",
    "import sqlite3\n",
    "import pandas as pd\n",
    "from sqlalchemy import create_engine\n",
    "from nba_api.stats.endpoints import playergamelogs"
   ]
  },
  {
   "cell_type": "code",
<<<<<<< Updated upstream:Data Collection.ipynb
   "execution_count": 21,
=======
   "execution_count": 2,
>>>>>>> Stashed changes:Data Collection/PlayerDataCollection.ipynb
   "id": "d289a2e7-80dc-4b65-87b5-53cf15372667",
   "metadata": {},
   "outputs": [],
   "source": [
    "# -----------------------------------------\n",
    "# Configuration\n",
    "# -----------------------------------------\n",
    "DB_NAME = \"nba_data.db\"\n",
    "DB_URI = f\"sqlite:///{DB_NAME}\"\n",
    "\n",
    "# Dynamically generate seasons from 2000 to 2023\n",
    "START_YEAR = 2021\n",
    "END_YEAR = 2023\n",
    "SEASONS = [f\"{year}-{str(year+1)[-2:]}\" for year in range(START_YEAR, END_YEAR + 1)]\n",
    "SEASON_TYPE = \"Regular Season\"\n",
    "\n",
    "# -----------------------------------------\n",
    "# Create SQLAlchemy engine\n",
    "# -----------------------------------------\n",
    "engine = create_engine(DB_URI, echo=False)"
   ]
  },
  {
   "cell_type": "code",
<<<<<<< Updated upstream:Data Collection.ipynb
   "execution_count": 22,
=======
   "execution_count": 3,
>>>>>>> Stashed changes:Data Collection/PlayerDataCollection.ipynb
   "id": "ea968f4a-e477-481c-a238-dd4fded4bf24",
   "metadata": {},
   "outputs": [
    {
     "name": "stdout",
     "output_type": "stream",
     "text": [
      "Fetching data for season 2021-22...\n",
      "Fetching data for season 2022-23...\n",
      "Fetching data for season 2023-24...\n",
      "Total records fetched: 78334\n"
     ]
    }
   ],
   "source": [
    "# -----------------------------------------\n",
    "# Fetch Data for Multiple Seasons\n",
    "# -----------------------------------------\n",
    "all_data = []\n",
    "for season in SEASONS:\n",
    "    print(f\"Fetching data for season {season}...\")\n",
    "    gamelogs = playergamelogs.PlayerGameLogs(\n",
    "        season_nullable=season,\n",
    "        season_type_nullable=SEASON_TYPE\n",
    "    )\n",
    "    df_season = gamelogs.get_data_frames()[0]\n",
    "    df_season[\"season\"] = season\n",
    "    all_data.append(df_season)\n",
    "\n",
    "# Concatenate all seasons into one DataFrame\n",
    "df_all = pd.concat(all_data, ignore_index=True)\n",
    "print(f\"Total records fetched: {len(df_all)}\")"
   ]
  },
  {
   "cell_type": "code",
<<<<<<< Updated upstream:Data Collection.ipynb
   "execution_count": 23,
=======
   "execution_count": 4,
>>>>>>> Stashed changes:Data Collection/PlayerDataCollection.ipynb
   "id": "5579b3be-7465-4b1c-af69-96135c105fdf",
   "metadata": {},
   "outputs": [],
   "source": [
    "# -----------------------------------------\n",
    "# Select Necessary Columns and Transform\n",
    "# -----------------------------------------\n",
    "columns_needed = [\"PLAYER_ID\", \"GAME_ID\", \"GAME_DATE\", \"TEAM_ID\", \"MATCHUP\", \n",
    "                  \"PTS\", \"MIN\", \"FGM\", \"FGA\", \"REB\", \"AST\", \"season\"]\n",
    "\n",
    "df_selected = df_all[columns_needed].copy()\n",
    "\n",
    "# Convert GAME_DATE to a proper datetime\n",
    "df_selected[\"GAME_DATE\"] = pd.to_datetime(df_selected[\"GAME_DATE\"])\n",
    "\n",
    "# Add a last_updated column\n",
    "df_selected[\"last_updated\"] = datetime.now(timezone.utc).strftime(\"%Y-%m-%d %H:%M:%S\")\n",
    "\n",
    "# Normalize column names (lowercase)\n",
    "df_selected.columns = [col.lower() for col in df_selected.columns]"
   ]
  },
  {
   "cell_type": "code",
<<<<<<< Updated upstream:Data Collection.ipynb
   "execution_count": 24,
=======
   "execution_count": 5,
>>>>>>> Stashed changes:Data Collection/PlayerDataCollection.ipynb
   "id": "fe22d4cc-1a03-45a7-aea7-fd0edae6acaf",
   "metadata": {},
   "outputs": [
    {
     "name": "stdout",
     "output_type": "stream",
     "text": [
      "Data collection and management complete.\n",
      "Data stored in nba_data.db, table: player_game_data\n"
     ]
    }
   ],
   "source": [
    "# -----------------------------------------\n",
    "# Load Data into Local SQLite Database\n",
    "# -----------------------------------------\n",
    "df_selected.to_sql(\"player_game_data\", engine, if_exists=\"replace\", index=False)\n",
    "\n",
    "print(\"Data collection and management complete.\")\n",
    "print(f\"Data stored in {DB_NAME}, table: player_game_data\")"
   ]
<<<<<<< Updated upstream:Data Collection.ipynb
  },
  {
   "cell_type": "code",
   "execution_count": null,
   "id": "c8b6c62d-8081-4d74-bfdd-54bf46b2da4a",
   "metadata": {},
   "outputs": [],
   "source": []
=======
>>>>>>> Stashed changes:Data Collection/PlayerDataCollection.ipynb
  }
 ],
 "metadata": {
  "kernelspec": {
   "display_name": "NBA",
   "language": "python",
<<<<<<< Updated upstream:Data Collection.ipynb
   "name": "nba"
=======
   "name": "newnba"
>>>>>>> Stashed changes:Data Collection/PlayerDataCollection.ipynb
  },
  "language_info": {
   "codemirror_mode": {
    "name": "ipython",
    "version": 3
   },
   "file_extension": ".py",
   "mimetype": "text/x-python",
   "name": "python",
   "nbconvert_exporter": "python",
   "pygments_lexer": "ipython3",
<<<<<<< Updated upstream:Data Collection.ipynb
   "version": "3.13.1"
=======
   "version": "3.9.18"
>>>>>>> Stashed changes:Data Collection/PlayerDataCollection.ipynb
  }
 },
 "nbformat": 4,
 "nbformat_minor": 5
}
