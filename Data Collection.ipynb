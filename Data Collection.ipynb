{
 "cells": [
  {
   "cell_type": "code",
   "execution_count": 1,
   "id": "0d5601a6-6153-46a7-9497-2a87c517a246",
   "metadata": {},
   "outputs": [],
   "source": [
    "# -----------------------------------------\n",
    "# Import Packages\n",
    "# -----------------------------------------\n",
    "import os\n",
    "from datetime import datetime, timezone\n",
    "\n",
    "import sqlite3\n",
    "import pandas as pd\n",
    "from sqlalchemy import create_engine\n",
    "from nba_api.stats.endpoints import playergamelogs"
   ]
  },
  {
   "cell_type": "code",
   "execution_count": 2,
   "id": "d289a2e7-80dc-4b65-87b5-53cf15372667",
   "metadata": {},
   "outputs": [],
   "source": [
    "# -----------------------------------------\n",
    "# Configuration\n",
    "# -----------------------------------------\n",
    "DB_NAME = \"nba_data.db\"\n",
    "DB_URI = f\"sqlite:///{DB_NAME}\"\n",
    "\n",
    "SEASONS = [\n",
    "    \"2015-16\", \"2016-17\", \"2017-18\", \"2018-19\", \"2019-20\",\n",
    "    \"2020-21\", \"2021-22\", \"2022-23\"\n",
    "]\n",
    "SEASON_TYPE = \"Regular Season\"\n",
    "\n",
    "# -----------------------------------------\n",
    "# Create SQLAlchemy engine\n",
    "# -----------------------------------------\n",
    "engine = create_engine(DB_URI, echo=False)"
   ]
  },
  {
   "cell_type": "code",
   "execution_count": 3,
   "id": "ea968f4a-e477-481c-a238-dd4fded4bf24",
   "metadata": {},
   "outputs": [
    {
     "name": "stdout",
     "output_type": "stream",
     "text": [
      "Fetching data for season 2015-16...\n",
      "Fetching data for season 2016-17...\n",
      "Fetching data for season 2017-18...\n",
      "Fetching data for season 2018-19...\n",
      "Fetching data for season 2019-20...\n",
      "Fetching data for season 2020-21...\n",
      "Fetching data for season 2021-22...\n",
      "Fetching data for season 2022-23...\n",
      "Total records fetched: 201805\n"
     ]
    }
   ],
   "source": [
    "# -----------------------------------------\n",
    "# Fetch Data for Multiple Seasons\n",
    "# -----------------------------------------\n",
    "all_data = []\n",
    "for season in SEASONS:\n",
    "    print(f\"Fetching data for season {season}...\")\n",
    "    gamelogs = playergamelogs.PlayerGameLogs(\n",
    "        season_nullable=season,\n",
    "        season_type_nullable=SEASON_TYPE\n",
    "    )\n",
    "    df_season = gamelogs.get_data_frames()[0]\n",
    "    df_season[\"season\"] = season\n",
    "    all_data.append(df_season)\n",
    "\n",
    "# Concatenate all seasons into one DataFrame\n",
    "df_all = pd.concat(all_data, ignore_index=True)\n",
    "print(f\"Total records fetched: {len(df_all)}\")"
   ]
  },
  {
   "cell_type": "code",
   "execution_count": 4,
   "id": "5579b3be-7465-4b1c-af69-96135c105fdf",
   "metadata": {},
   "outputs": [],
   "source": [
    "# -----------------------------------------\n",
    "# Select Necessary Columns and Transform\n",
    "# -----------------------------------------\n",
    "columns_needed = [\"PLAYER_ID\", \"GAME_ID\", \"GAME_DATE\", \"TEAM_ID\", \"MATCHUP\", \n",
    "                  \"PTS\", \"MIN\", \"FGM\", \"FGA\", \"REB\", \"AST\", \"season\"]\n",
    "\n",
    "df_selected = df_all[columns_needed].copy()\n",
    "\n",
    "# Convert GAME_DATE to a proper datetime\n",
    "df_selected[\"GAME_DATE\"] = pd.to_datetime(df_selected[\"GAME_DATE\"])\n",
    "\n",
    "# Add a last_updated column\n",
    "df_selected[\"last_updated\"] = datetime.now(timezone.utc).strftime(\"%Y-%m-%d %H:%M:%S\")\n",
    "\n",
    "# Normalize column names (lowercase)\n",
    "df_selected.columns = [col.lower() for col in df_selected.columns]"
   ]
  },
  {
   "cell_type": "code",
   "execution_count": 5,
   "id": "fe22d4cc-1a03-45a7-aea7-fd0edae6acaf",
   "metadata": {},
   "outputs": [
    {
     "name": "stdout",
     "output_type": "stream",
     "text": [
      "Data collection and management complete.\n",
      "Data stored in nba_data.db, table: player_game_data\n"
     ]
    }
   ],
   "source": [
    "# -----------------------------------------\n",
    "# Load Data into Local SQLite Database\n",
    "# -----------------------------------------\n",
    "df_selected.to_sql(\"player_game_data\", engine, if_exists=\"replace\", index=False)\n",
    "\n",
    "print(\"Data collection and management complete.\")\n",
    "print(f\"Data stored in {DB_NAME}, table: player_game_data\")"
   ]
  },
  {
   "cell_type": "code",
   "execution_count": null,
   "id": "d5d08142-29cc-407e-a9c7-60de625d8d96",
   "metadata": {},
   "outputs": [],
   "source": []
  }
 ],
 "metadata": {
  "kernelspec": {
   "display_name": "NBA",
   "language": "python",
   "name": "nba"
  },
  "language_info": {
   "codemirror_mode": {
    "name": "ipython",
    "version": 3
   },
   "file_extension": ".py",
   "mimetype": "text/x-python",
   "name": "python",
   "nbconvert_exporter": "python",
   "pygments_lexer": "ipython3",
   "version": "3.13.1"
  }
 },
 "nbformat": 4,
 "nbformat_minor": 5
}
