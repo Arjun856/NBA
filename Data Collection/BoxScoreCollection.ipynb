{
 "cells": [
  {
   "cell_type": "code",
   "execution_count": 1,
   "id": "a1ef17b9-0d36-4c90-b8a9-5b1e6e9e107d",
   "metadata": {},
   "outputs": [],
   "source": [
    "from nba_api.stats.endpoints import leaguegamefinder, boxscoretraditionalv2, boxscoresummaryv2, boxscoreadvancedv2\n",
    "import requests\n",
    "import pandas as pd\n",
    "import sqlite3\n",
    "import time"
   ]
  },
  {
   "cell_type": "code",
   "execution_count": 2,
   "id": "a52f13bc-5fee-4a06-bfb8-25e5e6ccfcff",
   "metadata": {},
   "outputs": [
    {
     "name": "stdout",
     "output_type": "stream",
     "text": [
      "Fetching games for season 2019-20...\n",
      "Fetching games for season 2020-21...\n",
      "Fetching games for season 2021-22...\n",
      "Fetching games for season 2022-23...\n",
      "Fetching games for season 2023-24...\n"
     ]
    }
   ],
   "source": [
    "# Define the starting season and initialize a list for all box scores\n",
    "batch_size = 20 # Number of games to process in each batch\n",
    "delay_between_batches = 10 # Delay (in seconds) between batches\n",
    "seasons = ['2019-20', '2020-21', '2021-22', '2022-23', '2023-24']  # Add seasons as needed\n",
    "\n",
    "# Connect to SQLite database (creates the database if it doesn't exist)\n",
    "conn = sqlite3.connect(\"nba_box_scores.db\")\n",
    "cursor = conn.cursor()\n",
    "\n",
    "#Fetch all games for the specified seasons\n",
    "all_games = []\n",
    "for season in seasons:\n",
    "    print(f\"Fetching games for season {season}...\")\n",
    "    gamefinder = leaguegamefinder.LeagueGameFinder(season_nullable=season, season_type_nullable='Regular Season')\n",
    "    season_games_df = gamefinder.get_data_frames()[0]\n",
    "    all_games.append(season_games_df)\n",
    "    time.sleep(10)\n",
    "\n",
    "# Combine games from all seasons\n",
    "games_df = pd.concat(all_games, ignore_index=True)\n",
    "games_df.to_csv('allgames.csv', index=False)  # Save to CSV for reference\n",
    "\n",
    "# Get unique game IDs\n",
    "game_ids = games_df['GAME_ID'].unique()"
   ]
  },
  {
   "cell_type": "code",
   "execution_count": null,
   "id": "de330dea-cecb-43fd-82a7-7ead15845346",
   "metadata": {
    "scrolled": true
   },
   "outputs": [
    {
     "name": "stdout",
     "output_type": "stream",
     "text": [
      "Processing batch 1 with 20 games...\n",
      "Batch 1 completed. Waiting for 10 seconds...\n",
      "Processing batch 2 with 20 games...\n",
      "Batch 2 completed. Waiting for 10 seconds...\n",
      "Processing batch 3 with 20 games...\n",
      "Batch 3 completed. Waiting for 10 seconds...\n",
      "Processing batch 4 with 20 games...\n",
      "Batch 4 completed. Waiting for 10 seconds...\n",
      "Processing batch 5 with 20 games...\n",
      "Batch 5 completed. Waiting for 10 seconds...\n"
     ]
    }
   ],
   "source": [
    "# Step 2: Process games in batches\n",
    "for i in range(0, len(game_ids), batch_size):\n",
    "    batch = game_ids[i:i + batch_size]\n",
    "    print(f\"Processing batch {i // batch_size + 1} with {len(batch)} games...\")\n",
    "\n",
    "    for game_id in batch:\n",
    "        try:\n",
    "            # Fetch box score data for the game\n",
    "            boxscoretrad = boxscoretraditionalv2.BoxScoreTraditionalV2(game_id=game_id, timeout=60)\n",
    "\n",
    "            # Extract PlayerStats\n",
    "            player_basic_stats = boxscoretrad.player_stats.get_data_frame()\n",
    "            player_basic_stats[\"GAME_ID\"] = game_id\n",
    "            \n",
    "            # Extract TeamStats\n",
    "            team_basic_stats = boxscoretrad.team_stats.get_data_frame()\n",
    "            team_basic_stats[\"GAME_ID\"] = game_id\n",
    "\n",
    "            # Save data to SQLite database\n",
    "            player_basic_stats.to_sql(\"player_basic_stats\", conn, if_exists=\"append\", index=False)\n",
    "            team_basic_stats.to_sql(\"team_basic_stats\", conn, if_exists=\"append\", index=False)\n",
    "\n",
    "\n",
    "        except Exception as e:\n",
    "            print(f\"Error processing game {game_id}: {e}\")\n",
    "            continue\n",
    "\n",
    "    # Delay between batches\n",
    "    print(f\"Batch {i // batch_size + 1} completed. Waiting for {delay_between_batches} seconds...\")\n",
    "    time.sleep(delay_between_batches)\n",
    "\n",
    "# Step 3: Verify Data Saved\n",
    "print(\"All data successfully saved to SQLite database!\")"
   ]
  },
  {
   "cell_type": "code",
   "execution_count": null,
   "id": "fa1b715b-19bf-4548-855f-7d691ebb2676",
   "metadata": {},
   "outputs": [],
   "source": [
    "# Step 2: Process games in batches\n",
    "for i in range(0, len(game_ids), batch_size):\n",
    "    batch = game_ids[i:i + batch_size]\n",
    "    print(f\"Processing batch {i // batch_size + 1} with {len(batch)} games...\")\n",
    "\n",
    "    for game_id in batch:\n",
    "        try:\n",
    "            # Fetch box score data for the game\n",
    "            boxscore = boxscoresummaryv2.BoxScoreSummaryV2(game_id=game_id)\n",
    "            boxscoreadv = boxscoreadvancedv2.BoxScoreAdvancedV2(game_id=game_id)\n",
    "            boxscoretrad = boxscoretraditionalv2(game_id=game_id)\n",
    "\n",
    "            # Extract and add relevant data\n",
    "            game_details = boxscore.game_summary.get_data_frame()\n",
    "            inactive_players = boxscore.inactive_players.get_data_frame()\n",
    "            team_stats = boxscoreadv.team_stats.get_data_frame()\n",
    "            player_stats = boxscoreadv.player_stats.get_data_frame()\n",
    "\n",
    "            # Tag data with the game ID for clarity\n",
    "            game_details['GAME_ID'] = game_id\n",
    "            inactive_players['GAME_ID'] = game_id\n",
    "            team_stats['GAME_ID'] = game_id\n",
    "            player_stats['GAME_ID'] = game_id\n",
    "\n",
    "            # Save data to SQLite database\n",
    "            game_details.to_sql('game_details', conn, if_exists='append', index=False)\n",
    "            inactive_players.to_sql('inactive_players', conn, if_exists='append', index=False)\n",
    "            player_stats.to_sql('player_stats', conn, if_exists='append', index=False)\n",
    "            team_stats.to_sql('team_stats', conn, if_exists='append', index=False)\n",
    "            \n",
    "        except Exception as e:\n",
    "            print(f\"Failed to process game {game_id}: {e}\")\n",
    "            continue\n",
    "\n",
    "    # Delay between batches to avoid rate limiting\n",
    "    print(f\"Batch {i // batch_size + 1} completed. Waiting for {delay_between_batches} seconds...\")\n",
    "    time.sleep(delay_between_batches)\n",
    "\n",
    "# Step 3: Verify Data Saved\n",
    "print(\"All data successfully saved to SQLite database!\")\n",
    "\n",
    "# Close the database connection\n",
    "conn.close()"
   ]
  }
 ],
 "metadata": {
  "kernelspec": {
   "display_name": "NBA",
   "language": "python",
   "name": "newnba"
  },
  "language_info": {
   "codemirror_mode": {
    "name": "ipython",
    "version": 3
   },
   "file_extension": ".py",
   "mimetype": "text/x-python",
   "name": "python",
   "nbconvert_exporter": "python",
   "pygments_lexer": "ipython3",
   "version": "3.9.18"
  }
 },
 "nbformat": 4,
 "nbformat_minor": 5
}
