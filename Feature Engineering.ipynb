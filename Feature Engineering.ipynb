{
 "cells": [
  {
   "cell_type": "code",
   "execution_count": 4,
   "id": "6f9ae416-4e6e-415f-8f63-631cd05c23cc",
   "metadata": {},
   "outputs": [],
   "source": [
    "import pandas as pd\n",
    "from sqlalchemy import create_engine\n",
    "from datetime import datetime, timezone"
   ]
  },
  {
   "cell_type": "code",
   "execution_count": 5,
   "id": "492424d4-cc50-4a3c-bbc4-1e5378d9ab0c",
   "metadata": {},
   "outputs": [],
   "source": [
    "# ------------------------------------------------------------\n",
    "# Configuration\n",
    "# ------------------------------------------------------------\n",
    "DB_NAME = \"nba_data.db\"\n",
    "DB_URI = f\"sqlite:///{DB_NAME}\"\n",
    "engine = create_engine(DB_URI, echo=False)"
   ]
  },
  {
   "cell_type": "code",
   "execution_count": 6,
   "id": "76800db4-19b2-4e6e-a630-cc9f944eb7e7",
   "metadata": {},
   "outputs": [],
   "source": [
    "# ------------------------------------------------------------\n",
    "# 1. Load Data\n",
    "# ------------------------------------------------------------\n",
    "query = \"SELECT * FROM player_game_data;\"\n",
    "df = pd.read_sql(query, engine)"
   ]
  },
  {
   "cell_type": "code",
   "execution_count": 7,
   "id": "3fa0600a-d957-4d08-9da6-c457a5af1b12",
   "metadata": {},
   "outputs": [],
   "source": [
    "# ------------------------------------------------------------\n",
    "# 2. Sort and Group by Player\n",
    "# ------------------------------------------------------------\n",
    "# Ensure that data is sorted by player_id and game_date to create time series features\n",
    "df = df.sort_values(by=[\"player_id\", \"game_date\"])"
   ]
  },
  {
   "cell_type": "code",
   "execution_count": 16,
   "id": "0b37daf8-e1a7-41df-ab7d-dd3db6a3bd16",
   "metadata": {},
   "outputs": [],
   "source": [
    "# ------------------------------------------------------------\n",
    "# 3. Compute Trailing Averages\n",
    "# ------------------------------------------------------------\n",
    "# Define a trailing window size (e.g., 5 games)\n",
    "window_size = 5\n",
    "\n",
    "# Compute trailing points per 5 games\n",
    "df[\"trailing_pts_5\"] = (\n",
    "    df.groupby(\"player_id\")[\"pts\"]\n",
    "    .apply(lambda x: x.shift(1).rolling(window=window_size, min_periods=1).mean())\n",
    "    .reset_index(level=0, drop=True)  # Reset index to align with the original DataFrame\n",
    ")\n",
    "\n",
    "# Compute trailing minutes per 5 games\n",
    "df[\"trailing_min_5\"] = (\n",
    "    df.groupby(\"player_id\")[\"min\"]\n",
    "    .apply(lambda x: x.shift(1).rolling(window=window_size, min_periods=1).mean())\n",
    "    .reset_index(level=0, drop=True)\n",
    ")\n",
    "\n",
    "# Compute trailing field goals made (FGM) per 5 games\n",
    "df[\"trailing_fgm_5\"] = (\n",
    "    df.groupby(\"player_id\")[\"fgm\"]\n",
    "    .apply(lambda x: x.shift(1).rolling(window=window_size, min_periods=1).mean())\n",
    "    .reset_index(level=0, drop=True)\n",
    ")\n",
    "\n",
    "# Compute trailing field goal attempts (FGA) per 5 games\n",
    "df[\"trailing_fga_5\"] = (\n",
    "    df.groupby(\"player_id\")[\"fga\"]\n",
    "    .apply(lambda x: x.shift(1).rolling(window=window_size, min_periods=1).mean())\n",
    "    .reset_index(level=0, drop=True)\n",
    ")\n",
    "\n",
    "# Compute trailing rebounds per 5 games\n",
    "df[\"trailing_reb_5\"] = (\n",
    "    df.groupby(\"player_id\")[\"reb\"]\n",
    "    .apply(lambda x: x.shift(1).rolling(window=window_size, min_periods=1).mean())\n",
    "    .reset_index(level=0, drop=True)\n",
    ")\n",
    "\n",
    "# Compute trailing assists per 5 games\n",
    "df[\"trailing_ast_5\"] = (\n",
    "    df.groupby(\"player_id\")[\"ast\"]\n",
    "    .apply(lambda x: x.shift(1).rolling(window=window_size, min_periods=1).mean())\n",
    "    .reset_index(level=0, drop=True)\n",
    ")"
   ]
  },
  {
   "cell_type": "code",
   "execution_count": 23,
   "id": "320d1a9a-1f35-4baf-abaa-5a463c20e6ae",
   "metadata": {},
   "outputs": [],
   "source": [
    "# ------------------------------------------------------------\n",
    "# 4. Compute Efficiency Metrics\n",
    "# ------------------------------------------------------------\n",
    "# Field Goal Percentage\n",
    "df[\"fg_pct\"] = df.apply(lambda x: x[\"fgm\"] / x[\"fga\"] if x[\"fga\"] > 0 else 0.0, axis=1)\n",
    "\n",
    "# Points per Minute\n",
    "df[\"pts_per_min\"] = df.apply(lambda x: x[\"pts\"] / x[\"min\"] if x[\"min\"] > 0 else 0.0, axis=1)\n",
    "\n",
    "# Compute trailing FG% (Field Goal Percentage) over the last 5 games\n",
    "df[\"trailing_fg_pct_5\"] = (\n",
    "    df.groupby(\"player_id\", group_keys=False)\n",
    "    .apply(\n",
    "        lambda group: (\n",
    "            group[\"fgm\"].shift(1).rolling(window=5, min_periods=1).sum()\n",
    "            / group[\"fga\"].shift(1).rolling(window=5, min_periods=1).sum()\n",
    "        ),\n",
    "        include_groups=False\n",
    "    )\n",
    "    .fillna(0)  # Replace NaN with 0 for invalid calculations\n",
    ")\n",
    "\n",
    "# Compute trailing PPM (Points Per Minute) over the last 5 games\n",
    "df[\"trailing_ppm_5\"] = (\n",
    "    df.groupby(\"player_id\", group_keys=False)\n",
    "    .apply(\n",
    "        lambda group: (\n",
    "            group[\"pts\"].shift(1).rolling(window=5, min_periods=1).sum()\n",
    "            / group[\"min\"].shift(1).rolling(window=5, min_periods=1).sum()\n",
    "        ),\n",
    "        include_groups=False\n",
    "    )\n",
    "    .fillna(0)\n",
    ")\n",
    "\n"
   ]
  },
  {
   "cell_type": "code",
   "execution_count": 24,
   "id": "cfe98547-2cf5-4b83-87e9-dafdf380b480",
   "metadata": {
    "scrolled": true
   },
   "outputs": [
    {
     "name": "stdout",
     "output_type": "stream",
     "text": [
      "Feature engineering complete. Enhanced data stored in 'player_game_features' table.\n"
     ]
    }
   ],
   "source": [
    "# ------------------------------------------------------------\n",
    "# . (Optional) Store Enhanced Dataset\n",
    "# ------------------------------------------------------------\n",
    "# Normalize column names again just to be sure\n",
    "df.columns = [col.lower() for col in df.columns]\n",
    "\n",
    "# Store this enhanced dataset into a new table\n",
    "df.to_sql(\"player_game_features\", engine, if_exists=\"replace\", index=False)\n",
    "\n",
    "print(\"Feature engineering complete. Enhanced data stored in 'player_game_features' table.\")"
   ]
  },
  {
   "cell_type": "code",
   "execution_count": 25,
   "id": "e1be907b-81e0-49ce-9092-11df80bd2c67",
   "metadata": {},
   "outputs": [
    {
     "data": {
      "text/html": [
       "<div>\n",
       "<style scoped>\n",
       "    .dataframe tbody tr th:only-of-type {\n",
       "        vertical-align: middle;\n",
       "    }\n",
       "\n",
       "    .dataframe tbody tr th {\n",
       "        vertical-align: top;\n",
       "    }\n",
       "\n",
       "    .dataframe thead th {\n",
       "        text-align: right;\n",
       "    }\n",
       "</style>\n",
       "<table border=\"1\" class=\"dataframe\">\n",
       "  <thead>\n",
       "    <tr style=\"text-align: right;\">\n",
       "      <th></th>\n",
       "      <th>name</th>\n",
       "    </tr>\n",
       "  </thead>\n",
       "  <tbody>\n",
       "    <tr>\n",
       "      <th>0</th>\n",
       "      <td>player_game_data</td>\n",
       "    </tr>\n",
       "    <tr>\n",
       "      <th>1</th>\n",
       "      <td>player_game_features</td>\n",
       "    </tr>\n",
       "  </tbody>\n",
       "</table>\n",
       "</div>"
      ],
      "text/plain": [
       "                   name\n",
       "0      player_game_data\n",
       "1  player_game_features"
      ]
     },
     "execution_count": 25,
     "metadata": {},
     "output_type": "execute_result"
    }
   ],
   "source": [
    "pd.read_sql(\"SELECT name FROM sqlite_master WHERE type='table'\", engine)"
   ]
  },
  {
   "cell_type": "code",
   "execution_count": null,
   "id": "124dfaee-121d-4427-a355-48b2b5bedaa5",
   "metadata": {},
   "outputs": [],
   "source": []
  },
  {
   "cell_type": "code",
   "execution_count": null,
   "id": "49642d31-3f83-4fc8-8db2-5778be93301c",
   "metadata": {},
   "outputs": [],
   "source": []
  }
 ],
 "metadata": {
  "kernelspec": {
   "display_name": "Python 3 (ipykernel)",
   "language": "python",
   "name": "python3"
  },
  "language_info": {
   "codemirror_mode": {
    "name": "ipython",
    "version": 3
   },
   "file_extension": ".py",
   "mimetype": "text/x-python",
   "name": "python",
   "nbconvert_exporter": "python",
   "pygments_lexer": "ipython3",
   "version": "3.12.4"
  }
 },
 "nbformat": 4,
 "nbformat_minor": 5
}
