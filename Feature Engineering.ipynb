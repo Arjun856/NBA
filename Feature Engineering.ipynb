{
 "cells": [
  {
   "cell_type": "code",
<<<<<<< Updated upstream
   "execution_count": 9,
=======
   "execution_count": 1,
>>>>>>> Stashed changes
   "id": "6f9ae416-4e6e-415f-8f63-631cd05c23cc",
   "metadata": {},
   "outputs": [],
   "source": [
    "import pandas as pd\n",
    "from sqlalchemy import create_engine\n",
    "from datetime import datetime, timezone"
   ]
  },
  {
   "cell_type": "code",
<<<<<<< Updated upstream
   "execution_count": 10,
=======
   "execution_count": 2,
>>>>>>> Stashed changes
   "id": "492424d4-cc50-4a3c-bbc4-1e5378d9ab0c",
   "metadata": {},
   "outputs": [],
   "source": [
    "# ------------------------------------------------------------\n",
    "# Configuration\n",
    "# ------------------------------------------------------------\n",
    "DB_NAME = \"nba_data.db\"\n",
    "DB_URI = f\"sqlite:///{DB_NAME}\"\n",
    "engine = create_engine(DB_URI, echo=False)"
   ]
  },
  {
   "cell_type": "code",
<<<<<<< Updated upstream
   "execution_count": 11,
=======
   "execution_count": 3,
>>>>>>> Stashed changes
   "id": "76800db4-19b2-4e6e-a630-cc9f944eb7e7",
   "metadata": {},
   "outputs": [],
   "source": [
    "# ------------------------------------------------------------\n",
    "# 1. Load Data\n",
    "# ------------------------------------------------------------\n",
    "query = \"SELECT * FROM player_game_data;\"\n",
    "df = pd.read_sql(query, engine)"
   ]
  },
  {
   "cell_type": "code",
<<<<<<< Updated upstream
   "execution_count": 12,
=======
   "execution_count": 4,
>>>>>>> Stashed changes
   "id": "3fa0600a-d957-4d08-9da6-c457a5af1b12",
   "metadata": {},
   "outputs": [],
   "source": [
    "# ------------------------------------------------------------\n",
    "# 2. Sort and Group by Player\n",
    "# ------------------------------------------------------------\n",
    "# Ensure that data is sorted by player_id and game_date to create time series features\n",
    "df = df.sort_values(by=[\"player_id\", \"game_date\"])"
   ]
  },
  {
   "cell_type": "code",
<<<<<<< Updated upstream
   "execution_count": 13,
=======
   "execution_count": 5,
>>>>>>> Stashed changes
   "id": "0b37daf8-e1a7-41df-ab7d-dd3db6a3bd16",
   "metadata": {},
   "outputs": [],
   "source": [
    "# ------------------------------------------------------------\n",
    "# 3. Compute Rolling Averages\n",
    "# ------------------------------------------------------------\n",
    "# Define a rolling window size (e.g., 5 games)\n",
    "window_size = 5\n",
    "\n",
    "# Group by player, then use rolling to compute averages\n",
    "df[\"rolling_pts_5\"] = df.groupby(\"player_id\")[\"pts\"].rolling(window_size, min_periods=1).mean().reset_index(level=0, drop=True)\n",
    "df[\"rolling_min_5\"] = df.groupby(\"player_id\")[\"min\"].rolling(window_size, min_periods=1).mean().reset_index(level=0, drop=True)\n",
    "df[\"rolling_fgm_5\"] = df.groupby(\"player_id\")[\"fgm\"].rolling(window_size, min_periods=1).mean().reset_index(level=0, drop=True)\n",
    "df[\"rolling_fga_5\"] = df.groupby(\"player_id\")[\"fga\"].rolling(window_size, min_periods=1).mean().reset_index(level=0, drop=True)\n",
    "df[\"rolling_reb_5\"] = df.groupby(\"player_id\")[\"reb\"].rolling(window_size, min_periods=1).mean().reset_index(level=0, drop=True)\n",
    "df[\"rolling_ast_5\"] = df.groupby(\"player_id\")[\"ast\"].rolling(window_size, min_periods=1).mean().reset_index(level=0, drop=True)"
   ]
  },
  {
   "cell_type": "code",
<<<<<<< Updated upstream
   "execution_count": 14,
=======
   "execution_count": 6,
>>>>>>> Stashed changes
   "id": "320d1a9a-1f35-4baf-abaa-5a463c20e6ae",
   "metadata": {},
   "outputs": [],
   "source": [
    "# ------------------------------------------------------------\n",
    "# 4. Compute Efficiency Metrics\n",
    "# ------------------------------------------------------------\n",
    "# Field Goal Percentage\n",
    "df[\"fg_pct\"] = df.apply(lambda x: x[\"fgm\"] / x[\"fga\"] if x[\"fga\"] > 0 else 0.0, axis=1)\n",
    "\n",
    "# Points per Minute\n",
    "df[\"pts_per_min\"] = df.apply(lambda x: x[\"pts\"] / x[\"min\"] if x[\"min\"] > 0 else 0.0, axis=1)\n",
    "\n",
    "# Rolling FG% and Rolling PPM (over last 5 games)\n",
    "df[\"rolling_fg_pct_5\"] = df.apply(lambda x: x[\"rolling_fgm_5\"] / x[\"rolling_fga_5\"] if x[\"rolling_fga_5\"] > 0 else 0.0, axis=1)\n",
    "df[\"rolling_ppm_5\"] = df.apply(lambda x: x[\"rolling_pts_5\"] / x[\"rolling_min_5\"] if x[\"rolling_min_5\"] > 0 else 0.0, axis=1)\n"
   ]
  },
  {
   "cell_type": "code",
<<<<<<< Updated upstream
   "execution_count": 15,
=======
   "execution_count": 7,
>>>>>>> Stashed changes
   "id": "cfe98547-2cf5-4b83-87e9-dafdf380b480",
   "metadata": {},
   "outputs": [
    {
     "name": "stdout",
     "output_type": "stream",
     "text": [
      "Feature engineering complete. Enhanced data stored in 'player_game_features' table.\n"
     ]
    }
   ],
   "source": [
    "# ------------------------------------------------------------\n",
    "# 5. (Optional) Store Enhanced Dataset\n",
    "# ------------------------------------------------------------\n",
    "# Normalize column names again just to be sure\n",
    "df.columns = [col.lower() for col in df.columns]\n",
    "\n",
    "# Store this enhanced dataset into a new table\n",
    "df.to_sql(\"player_game_features\", engine, if_exists=\"replace\", index=False)\n",
    "\n",
    "print(\"Feature engineering complete. Enhanced data stored in 'player_game_features' table.\")"
   ]
  },
  {
   "cell_type": "code",
<<<<<<< Updated upstream
   "execution_count": 16,
=======
   "execution_count": 8,
>>>>>>> Stashed changes
   "id": "e1be907b-81e0-49ce-9092-11df80bd2c67",
   "metadata": {},
   "outputs": [
    {
     "data": {
      "text/html": [
       "<div>\n",
       "<style scoped>\n",
       "    .dataframe tbody tr th:only-of-type {\n",
       "        vertical-align: middle;\n",
       "    }\n",
       "\n",
       "    .dataframe tbody tr th {\n",
       "        vertical-align: top;\n",
       "    }\n",
       "\n",
       "    .dataframe thead th {\n",
       "        text-align: right;\n",
       "    }\n",
       "</style>\n",
       "<table border=\"1\" class=\"dataframe\">\n",
       "  <thead>\n",
       "    <tr style=\"text-align: right;\">\n",
       "      <th></th>\n",
       "      <th>name</th>\n",
       "    </tr>\n",
       "  </thead>\n",
       "  <tbody>\n",
       "    <tr>\n",
       "      <th>0</th>\n",
       "      <td>player_game_data</td>\n",
       "    </tr>\n",
       "    <tr>\n",
       "      <th>1</th>\n",
       "      <td>player_game_features</td>\n",
       "    </tr>\n",
       "  </tbody>\n",
       "</table>\n",
       "</div>"
      ],
      "text/plain": [
       "                   name\n",
       "0      player_game_data\n",
       "1  player_game_features"
      ]
     },
<<<<<<< Updated upstream
     "execution_count": 16,
=======
     "execution_count": 8,
>>>>>>> Stashed changes
     "metadata": {},
     "output_type": "execute_result"
    }
   ],
   "source": [
    "pd.read_sql(\"SELECT name FROM sqlite_master WHERE type='table'\", engine)"
   ]
  }
 ],
 "metadata": {
  "kernelspec": {
   "display_name": "NBA",
   "language": "python",
   "name": "nba"
  },
  "language_info": {
   "codemirror_mode": {
    "name": "ipython",
    "version": 3
   },
   "file_extension": ".py",
   "mimetype": "text/x-python",
   "name": "python",
   "nbconvert_exporter": "python",
   "pygments_lexer": "ipython3",
<<<<<<< Updated upstream
   "version": "3.13.1"
=======
   "version": "3.9.18"
>>>>>>> Stashed changes
  }
 },
 "nbformat": 4,
 "nbformat_minor": 5
}
