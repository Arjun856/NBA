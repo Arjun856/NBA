{
 "cells": [
  {
   "cell_type": "code",
   "execution_count": 1,
   "id": "89866c9a-76b6-4084-b757-2ab886eb1371",
   "metadata": {},
   "outputs": [],
   "source": [
    "import pandas as pd\n",
    "from sqlalchemy import create_engine\n",
    "from sklearn.model_selection import train_test_split\n",
    "from sklearn.linear_model import LinearRegression\n",
    "from sklearn.metrics import mean_absolute_error, mean_squared_error"
   ]
  },
  {
   "cell_type": "code",
   "execution_count": 2,
   "id": "b7e050a8-f314-4336-aa6e-23a331c42b01",
   "metadata": {},
   "outputs": [],
   "source": [
    "# ------------------------------------------------------------\n",
    "# Configuration\n",
    "# ------------------------------------------------------------\n",
    "DB_NAME = \"nba_data.db\"\n",
    "DB_URI = f\"sqlite:///{DB_NAME}\"\n",
    "engine = create_engine(DB_URI, echo=False)"
   ]
  },
  {
   "cell_type": "code",
   "execution_count": 3,
   "id": "119f348e-1856-4c5d-9749-eabdac5deafe",
   "metadata": {},
   "outputs": [
    {
     "name": "stdout",
     "output_type": "stream",
     "text": [
      "Row count: 201805\n",
      "     player_name  player_id     game_id                   game_date  \\\n",
      "0  Kevin Garnett        708  0021500017  2015-10-28 00:00:00.000000   \n",
      "1  Kevin Garnett        708  0021500029  2015-10-30 00:00:00.000000   \n",
      "2  Kevin Garnett        708  0021500050  2015-11-02 00:00:00.000000   \n",
      "3  Kevin Garnett        708  0021500071  2015-11-05 00:00:00.000000   \n",
      "4  Kevin Garnett        708  0021500085  2015-11-07 00:00:00.000000   \n",
      "\n",
      "      team_id      matchup  pts        min  fgm  fga  ...  trailing_pts_5  \\\n",
      "0  1610612750    MIN @ LAL    4  12.886667    2    4  ...             NaN   \n",
      "1  1610612750    MIN @ DEN    4  22.316667    1    3  ...        4.000000   \n",
      "2  1610612750  MIN vs. POR    0  16.583333    0    3  ...        4.000000   \n",
      "3  1610612750  MIN vs. MIA    0  11.266667    0    1  ...        2.666667   \n",
      "4  1610612750    MIN @ CHI    2  12.263333    1    2  ...        2.000000   \n",
      "\n",
      "   trailing_min_5 trailing_fgm_5 trailing_fga_5  trailing_reb_5  \\\n",
      "0             NaN            NaN            NaN             NaN   \n",
      "1       12.886667           2.00       4.000000        7.000000   \n",
      "2       17.601667           1.50       3.500000        6.500000   \n",
      "3       17.262222           1.00       3.333333        4.666667   \n",
      "4       15.763333           0.75       2.750000        4.500000   \n",
      "\n",
      "   trailing_ast_5    fg_pct  pts_per_min  trailing_fg_pct_5  trailing_ppm_5  \n",
      "0             NaN  0.500000     0.310398           0.000000        0.000000  \n",
      "1             2.0  0.333333     0.179238           0.500000        0.310398  \n",
      "2             1.0  0.000000     0.000000           0.428571        0.227251  \n",
      "3             1.0  0.000000     0.000000           0.300000        0.154480  \n",
      "4             1.0  0.500000     0.163088           0.272727        0.126877  \n",
      "\n",
      "[5 rows x 24 columns]\n"
     ]
    },
    {
     "ename": "KeyError",
     "evalue": "['rolling_pts_5', 'rolling_min_5', 'rolling_fg_pct_5', 'rolling_ppm_5', 'rolling_fgm_5', 'rolling_fga_5']",
     "output_type": "error",
     "traceback": [
      "\u001b[1;31m---------------------------------------------------------------------------\u001b[0m",
      "\u001b[1;31mKeyError\u001b[0m                                  Traceback (most recent call last)",
      "\u001b[1;32m~\\AppData\\Local\\Temp\\ipykernel_27436\\880815184.py\u001b[0m in \u001b[0;36m?\u001b[1;34m()\u001b[0m\n\u001b[1;32m---> 26\u001b[1;33m \u001b[1;31m# ------------------------------------------------------------\u001b[0m\u001b[1;33m\u001b[0m\u001b[1;33m\u001b[0m\u001b[0m\n\u001b[0m\u001b[0;32m     27\u001b[0m \u001b[1;31m# 1. Load Data\u001b[0m\u001b[1;33m\u001b[0m\u001b[1;33m\u001b[0m\u001b[0m\n\u001b[0;32m     28\u001b[0m \u001b[1;31m# ------------------------------------------------------------\u001b[0m\u001b[1;33m\u001b[0m\u001b[1;33m\u001b[0m\u001b[0m\n\u001b[0;32m     29\u001b[0m \u001b[0mrow_count\u001b[0m \u001b[1;33m=\u001b[0m \u001b[0mpd\u001b[0m\u001b[1;33m.\u001b[0m\u001b[0mread_sql\u001b[0m\u001b[1;33m(\u001b[0m\u001b[1;34m\"SELECT COUNT(*) AS count FROM player_game_features;\"\u001b[0m\u001b[1;33m,\u001b[0m \u001b[0mengine\u001b[0m\u001b[1;33m)\u001b[0m\u001b[1;33m\u001b[0m\u001b[1;33m\u001b[0m\u001b[0m\n",
      "\u001b[1;32m~\\anaconda3\\envs\\newNBA\\lib\\site-packages\\pandas\\core\\frame.py\u001b[0m in \u001b[0;36m?\u001b[1;34m(self, axis, how, thresh, subset, inplace, ignore_index)\u001b[0m\n\u001b[0;32m   6666\u001b[0m             \u001b[0max\u001b[0m \u001b[1;33m=\u001b[0m \u001b[0mself\u001b[0m\u001b[1;33m.\u001b[0m\u001b[0m_get_axis\u001b[0m\u001b[1;33m(\u001b[0m\u001b[0magg_axis\u001b[0m\u001b[1;33m)\u001b[0m\u001b[1;33m\u001b[0m\u001b[1;33m\u001b[0m\u001b[0m\n\u001b[0;32m   6667\u001b[0m             \u001b[0mindices\u001b[0m \u001b[1;33m=\u001b[0m \u001b[0max\u001b[0m\u001b[1;33m.\u001b[0m\u001b[0mget_indexer_for\u001b[0m\u001b[1;33m(\u001b[0m\u001b[0msubset\u001b[0m\u001b[1;33m)\u001b[0m\u001b[1;33m\u001b[0m\u001b[1;33m\u001b[0m\u001b[0m\n\u001b[0;32m   6668\u001b[0m             \u001b[0mcheck\u001b[0m \u001b[1;33m=\u001b[0m \u001b[0mindices\u001b[0m \u001b[1;33m==\u001b[0m \u001b[1;33m-\u001b[0m\u001b[1;36m1\u001b[0m\u001b[1;33m\u001b[0m\u001b[1;33m\u001b[0m\u001b[0m\n\u001b[0;32m   6669\u001b[0m             \u001b[1;32mif\u001b[0m \u001b[0mcheck\u001b[0m\u001b[1;33m.\u001b[0m\u001b[0many\u001b[0m\u001b[1;33m(\u001b[0m\u001b[1;33m)\u001b[0m\u001b[1;33m:\u001b[0m\u001b[1;33m\u001b[0m\u001b[1;33m\u001b[0m\u001b[0m\n\u001b[1;32m-> 6670\u001b[1;33m                 \u001b[1;32mraise\u001b[0m \u001b[0mKeyError\u001b[0m\u001b[1;33m(\u001b[0m\u001b[0mnp\u001b[0m\u001b[1;33m.\u001b[0m\u001b[0marray\u001b[0m\u001b[1;33m(\u001b[0m\u001b[0msubset\u001b[0m\u001b[1;33m)\u001b[0m\u001b[1;33m[\u001b[0m\u001b[0mcheck\u001b[0m\u001b[1;33m]\u001b[0m\u001b[1;33m.\u001b[0m\u001b[0mtolist\u001b[0m\u001b[1;33m(\u001b[0m\u001b[1;33m)\u001b[0m\u001b[1;33m)\u001b[0m\u001b[1;33m\u001b[0m\u001b[1;33m\u001b[0m\u001b[0m\n\u001b[0m\u001b[0;32m   6671\u001b[0m             \u001b[0magg_obj\u001b[0m \u001b[1;33m=\u001b[0m \u001b[0mself\u001b[0m\u001b[1;33m.\u001b[0m\u001b[0mtake\u001b[0m\u001b[1;33m(\u001b[0m\u001b[0mindices\u001b[0m\u001b[1;33m,\u001b[0m \u001b[0maxis\u001b[0m\u001b[1;33m=\u001b[0m\u001b[0magg_axis\u001b[0m\u001b[1;33m)\u001b[0m\u001b[1;33m\u001b[0m\u001b[1;33m\u001b[0m\u001b[0m\n\u001b[0;32m   6672\u001b[0m \u001b[1;33m\u001b[0m\u001b[0m\n\u001b[0;32m   6673\u001b[0m         \u001b[1;32mif\u001b[0m \u001b[0mthresh\u001b[0m \u001b[1;32mis\u001b[0m \u001b[1;32mnot\u001b[0m \u001b[0mlib\u001b[0m\u001b[1;33m.\u001b[0m\u001b[0mno_default\u001b[0m\u001b[1;33m:\u001b[0m\u001b[1;33m\u001b[0m\u001b[1;33m\u001b[0m\u001b[0m\n",
      "\u001b[1;31mKeyError\u001b[0m: ['rolling_pts_5', 'rolling_min_5', 'rolling_fg_pct_5', 'rolling_ppm_5', 'rolling_fgm_5', 'rolling_fga_5']"
     ]
    }
   ],
   "source": [
    "# ------------------------------------------------------------\n",
    "# 1. Load Data\n",
    "# ------------------------------------------------------------\n",
    "row_count = pd.read_sql(\"SELECT COUNT(*) AS count FROM player_game_features;\", engine)\n",
    "print(f\"Row count: {row_count['count'][0]}\")\n",
    "query = \"SELECT * FROM player_game_features;\"\n",
    "df = pd.read_sql(query, engine)\n",
    "print(df.head())\n",
    "\n",
    "# For simplicity, let's assume we want to predict 'pts' using some of the rolling averages and efficiency metrics we created.\n",
    "# Features (X) could be:\n",
    "# 'rolling_pts_5', 'rolling_min_5', 'rolling_fg_pct_5', 'rolling_ppm_5', 'rolling_fgm_5', 'rolling_fga_5', 'reb', 'ast'\n",
    "# Target (y) = 'pts'\n",
    "features = [\n",
    "    \"rolling_pts_5\",\n",
    "    \"rolling_min_5\",\n",
    "    \"rolling_fg_pct_5\",\n",
    "    \"rolling_ppm_5\",\n",
    "    \"rolling_fgm_5\",\n",
    "    \"rolling_fga_5\",\n",
    "    \"reb\",\n",
    "    \"ast\"\n",
    "]\n",
    "\n",
    "# Drop rows where these features might be NaN (first few games of each player might not have full rolling windows)\n",
    "df = df.dropna(subset=features + [\"pts\"])\n",
    "\n",
    "X = df[features]\n",
    "y = df[\"pts\"]"
   ]
  },
  {
   "cell_type": "code",
   "execution_count": null,
   "id": "92dc8d60-9aa2-414f-accb-4509e7e34a38",
   "metadata": {},
   "outputs": [],
   "source": [
    "# ------------------------------------------------------------\n",
    "# 2. Split Data into Train and Test\n",
    "# ------------------------------------------------------------\n",
    "# We'll do a simple random split. More sophisticated approaches might respect time (train on past, test on future),\n",
    "# but for a first pass, this is fine.\n",
    "X_train, X_test, y_train, y_test = train_test_split(X, y, test_size=0.2, random_state=42)"
   ]
  },
  {
   "cell_type": "code",
   "execution_count": null,
   "id": "613a8705-f560-4383-ad4d-c783c1eb2a83",
   "metadata": {},
   "outputs": [],
   "source": [
    "# ------------------------------------------------------------\n",
    "# 3. Train a Simple Model\n",
    "# ------------------------------------------------------------\n",
    "model = LinearRegression()\n",
    "model.fit(X_train, y_train)"
   ]
  },
  {
   "cell_type": "code",
   "execution_count": null,
   "id": "bc96ea3f-e57f-4352-b5f2-68e18aae823f",
   "metadata": {},
   "outputs": [],
   "source": [
    "# ------------------------------------------------------------\n",
    "# 4. Evaluate the Model\n",
    "# ------------------------------------------------------------\n",
    "y_pred = model.predict(X_test)\n",
    "\n",
    "mae = mean_absolute_error(y_test, y_pred)\n",
    "mse = mean_squared_error(y_test, y_pred)\n",
    "rmse = mse ** 0.5\n",
    "\n",
    "print(\"Model Evaluation:\")\n",
    "print(f\"MAE:  {mae:.2f}\")\n",
    "print(f\"MSE:  {mse:.2f}\")\n",
    "print(f\"RMSE: {rmse:.2f}\")"
   ]
  },
  {
   "cell_type": "code",
   "execution_count": null,
   "id": "86677df7-0495-418d-b68d-6dbf4e29a952",
   "metadata": {},
   "outputs": [],
   "source": [
    "# ------------------------------------------------------------\n",
    "# 5. Interpretation and Next Steps\n",
    "# ------------------------------------------------------------\n",
    "# At this point, you've got a baseline model. The results (MAE, MSE, RMSE) tell you how far off the predictions are.\n",
    "# You can try:\n",
    "# - Adding more features (opponent strength, rest days)\n",
    "# - Trying a more advanced model (RandomForest, Gradient Boosting, Neural Network)\n",
    "# - Using time-series validation instead of a simple random split for more realistic evaluation."
   ]
  },
  {
   "cell_type": "code",
   "execution_count": null,
   "id": "26caa01a-3daa-4b63-879a-088110edb62f",
   "metadata": {},
   "outputs": [],
   "source": []
  },
  {
   "cell_type": "code",
   "execution_count": null,
   "id": "78863662-39ae-479f-a717-38acbe4d00d1",
   "metadata": {},
   "outputs": [],
   "source": []
  }
 ],
 "metadata": {
  "kernelspec": {
   "display_name": "Python 3 (ipykernel)",
   "language": "python",
   "name": "python3"
  },
  "language_info": {
   "codemirror_mode": {
    "name": "ipython",
    "version": 3
   },
   "file_extension": ".py",
   "mimetype": "text/x-python",
   "name": "python",
   "nbconvert_exporter": "python",
   "pygments_lexer": "ipython3",
   "version": "3.9.18"
  }
 },
 "nbformat": 4,
 "nbformat_minor": 5
}
