{
 "cells": [
  {
   "cell_type": "code",
   "execution_count": null,
   "id": "c7d313b8-03a4-4be5-b967-c70c439cb5fb",
   "metadata": {},
   "outputs": [],
   "source": [
    "import nbformat\n",
    "from nbconvert.preprocessors import ExecutePreprocessor\n",
    "import os\n",
    "\n",
    "def run_notebook(notebook_path):\n",
    "    \"\"\"\n",
    "    Execute a Jupyter notebook programmatically.\n",
    "\n",
    "    :param notebook_path: Path to the notebook file.\n",
    "    \"\"\"\n",
    "    with open(notebook_path, 'r', encoding='utf-8') as nb_file:\n",
    "        notebook = nbformat.read(nb_file, as_version=4)\n",
    "        executor = ExecutePreprocessor(timeout=600, kernel_name='python3')\n",
    "        try:\n",
    "            executor.preprocess(notebook, {'metadata': {'path': os.path.dirname(notebook_path)}})\n",
    "            print(f\"Executed {notebook_path} successfully.\")\n",
    "        except Exception as e:\n",
    "            print(f\"Error executing {notebook_path}: {e}\")\n",
    "\n",
    "# List of notebooks to run\n",
    "notebooks = [\n",
    "    'Data Collection.ipynb',\n",
    "    'Feature Engineering.ipynb',\n",
    "    'Linear Regression Model.ipynb'\n",
    "    'Rolling-Expanding Window.ipynb'\n",
    "    'Time-Based Splits.ipynb'\n",
    "    'Predictions.ipynb'\n",
    "]\n",
    "\n",
    "# Execute each notebook\n",
    "for notebook in notebooks:\n",
    "    run_notebook(notebook)\n"
   ]
  },
  {
   "cell_type": "code",
   "execution_count": null,
   "id": "d85e49f7-091e-4a60-85a2-b02746e68683",
   "metadata": {},
   "outputs": [],
   "source": []
  }
 ],
 "metadata": {
  "kernelspec": {
   "display_name": "Python 3 (ipykernel)",
   "language": "python",
   "name": "python3"
  },
  "language_info": {
   "codemirror_mode": {
    "name": "ipython",
    "version": 3
   },
   "file_extension": ".py",
   "mimetype": "text/x-python",
   "name": "python",
   "nbconvert_exporter": "python",
   "pygments_lexer": "ipython3",
   "version": "3.12.4"
  }
 },
 "nbformat": 4,
 "nbformat_minor": 5
}
