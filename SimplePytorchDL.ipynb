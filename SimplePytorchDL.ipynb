{
 "cells": [
  {
   "cell_type": "code",
   "execution_count": 2,
   "id": "6e366a0d-17f1-40bb-85ee-06eab77ff1b2",
   "metadata": {},
   "outputs": [],
   "source": [
    "import pandas as pd\n",
    "import numpy as np\n",
    "import torch\n",
    "import torch.nn as nn\n",
    "from tqdm import tqdm\n",
    "from torch.utils.data import DataLoader, Dataset\n",
    "from sklearn.preprocessing import MinMaxScaler\n",
    "from sklearn.model_selection import train_test_split\n",
    "from sklearn.metrics import mean_absolute_error, mean_squared_error\n",
    "from sqlalchemy import create_engine"
   ]
  },
  {
   "cell_type": "code",
   "execution_count": 3,
   "id": "dfce851e-fc57-4103-b2b0-4f7f5d944775",
   "metadata": {},
   "outputs": [],
   "source": [
    "# ------------------------------------------------------------\n",
    "# Configuration\n",
    "# ------------------------------------------------------------\n",
    "DB_NAME = \"nba_data.db\"\n",
    "DB_URI = f\"sqlite:///{DB_NAME}\"\n",
    "engine = create_engine(DB_URI, echo=False)"
   ]
  },
  {
   "cell_type": "code",
   "execution_count": 4,
   "id": "ad5535df-06ce-4b18-a7f5-78c4803e21e5",
   "metadata": {},
   "outputs": [],
   "source": [
    "# ------------------------------------------------------------\n",
    "# Load Data & Sort\n",
    "# ------------------------------------------------------------\n",
    "df = pd.read_sql(\"SELECT * FROM player_game_features\", engine)\n",
    "\n",
    "# Ensure data is sorted by player and date\n",
    "df = df.sort_values(by=[\"player_id\", \"game_date\"])\n",
    "\n",
    "# Extract the season or year from 'game_date'\n",
    "df['game_year'] = pd.to_datetime(df['game_date']).dt.year\n",
    "\n",
    "# Features and target\n",
    "features = [\"player_id\", \"pts\", \"min\", \"fgm\", \"fga\", \"pts_per_min\", \"fg_pct\"]\n",
    "target = \"pts\"\n",
    "df = df.dropna(subset=features + [\"pts\"])\n",
    "\n",
    "X = df[features]\n",
    "y = df[\"pts\"]\n",
    "\n",
    "# ------------------------------------------------------------\n",
    "# Helper Function: Create Sequences\n",
    "# ------------------------------------------------------------\n",
    "class PlayerSequenceDataset(Dataset):\n",
    "    def __init__(self, features, targets, player_column):\n",
    "        self.X, self.y = self.create_sequences(features, targets, player_column)\n",
    "\n",
    "    @staticmethod\n",
    "    def create_sequences(data, target, player_column):\n",
    "        X, y = [], []\n",
    "        for player_id, group in data.groupby(player_column):\n",
    "            player_features = group.values  # All games for the player\n",
    "            player_target = target[group.index].values\n",
    "\n",
    "            for i in range(1, len(player_features)):\n",
    "                X.append(player_features[:i])  # Sequence of all past games\n",
    "                y.append(player_target[i])     # Target for the current game\n",
    "\n",
    "        max_len = max(len(seq) for seq in X)\n",
    "        padded_X = np.array([\n",
    "            np.pad(seq, ((max_len - len(seq), 0), (0, 0)), mode='constant')\n",
    "            for seq in X\n",
    "        ])\n",
    "        return np.array(padded_X), np.array(y)\n",
    "\n",
    "    def __len__(self):\n",
    "        return len(self.X)\n",
    "\n",
    "    def __getitem__(self, idx):\n",
    "        return torch.tensor(self.X[idx], dtype=torch.float32), torch.tensor(self.y[idx], dtype=torch.float32)"
   ]
  },
  {
   "cell_type": "code",
   "execution_count": 5,
   "id": "f92d18e4-64e3-49de-b063-ceb5b5e891e9",
   "metadata": {},
   "outputs": [],
   "source": [
    "# ------------------------------------------------------------\n",
    "# LSTM Model\n",
    "# ------------------------------------------------------------\n",
    "class LSTMModel(nn.Module):\n",
    "    def __init__(self, input_size, hidden_size=64, output_size=1):\n",
    "        super(LSTMModel, self).__init__()\n",
    "        self.lstm = nn.LSTM(input_size, hidden_size, batch_first=True)\n",
    "        self.fc1 = nn.Linear(hidden_size, 32)\n",
    "        self.fc2 = nn.Linear(32, output_size)\n",
    "\n",
    "    def forward(self, x):\n",
    "        _, (hn, _) = self.lstm(x)\n",
    "        x = hn[-1]\n",
    "        x = torch.relu(self.fc1(x))\n",
    "        return self.fc2(x)\n",
    "# ------------------------------------------------------------\n",
    "# Training & Validation Loop\n",
    "# ------------------------------------------------------------\n",
    "def train_model(model, dataloader, criterion, optimizer, device):\n",
    "    model.train()\n",
    "    total_loss = 0\n",
    "    for X_batch, y_batch in dataloader:\n",
    "        X_batch, y_batch = X_batch.to(device), y_batch.to(device)\n",
    "        optimizer.zero_grad()\n",
    "        outputs = model(X_batch).squeeze()\n",
    "        loss = criterion(outputs, y_batch)\n",
    "        loss.backward()\n",
    "        optimizer.step()\n",
    "        total_loss += loss.item()\n",
    "    return total_loss / len(dataloader)\n",
    "\n",
    "def evaluate_model(model, dataloader, device):\n",
    "    model.eval()\n",
    "    predictions, targets = [], []\n",
    "    with torch.no_grad():\n",
    "        for X_batch, y_batch in dataloader:\n",
    "            X_batch, y_batch = X_batch.to(device), y_batch.to(device)\n",
    "            outputs = model(X_batch).squeeze()\n",
    "            predictions.extend(outputs.cpu().numpy())\n",
    "            targets.extend(y_batch.cpu().numpy())\n",
    "    return np.array(predictions), np.array(targets)"
   ]
  },
  {
   "cell_type": "code",
   "execution_count": null,
   "id": "d85cedb6-669c-4df8-b854-fbbf21c3d062",
   "metadata": {},
   "outputs": [
    {
     "name": "stderr",
     "output_type": "stream",
     "text": [
      "Training Progress:   0%|                                                                        | 0/50 [00:00<?, ?it/s]C:\\Users\\twans\\anaconda3\\envs\\NBA\\Lib\\site-packages\\torch\\nn\\modules\\loss.py:608: UserWarning: Using a target size (torch.Size([1])) that is different to the input size (torch.Size([])). This will likely lead to incorrect results due to broadcasting. Please ensure they have the same size.\n",
      "  return F.mse_loss(input, target, reduction=self.reduction)\n",
      "Training Progress:   2%|█▎                                                              | 1/50 [00:58<47:59, 58.76s/it]"
     ]
    },
    {
     "name": "stdout",
     "output_type": "stream",
     "text": [
      "Epoch 1: Train Loss=64.7164, MAE=6.55, RMSE=8.55\n"
     ]
    },
    {
     "name": "stderr",
     "output_type": "stream",
     "text": [
      "C:\\Users\\twans\\anaconda3\\envs\\NBA\\Lib\\site-packages\\torch\\nn\\modules\\loss.py:608: UserWarning: Using a target size (torch.Size([1])) that is different to the input size (torch.Size([])). This will likely lead to incorrect results due to broadcasting. Please ensure they have the same size.\n",
      "  return F.mse_loss(input, target, reduction=self.reduction)\n",
      "Training Progress:   4%|██▌                                                             | 2/50 [01:57<46:59, 58.75s/it]"
     ]
    },
    {
     "name": "stdout",
     "output_type": "stream",
     "text": [
      "Epoch 2: Train Loss=62.2288, MAE=6.59, RMSE=8.52\n"
     ]
    },
    {
     "name": "stderr",
     "output_type": "stream",
     "text": [
      "C:\\Users\\twans\\anaconda3\\envs\\NBA\\Lib\\site-packages\\torch\\nn\\modules\\loss.py:608: UserWarning: Using a target size (torch.Size([1])) that is different to the input size (torch.Size([])). This will likely lead to incorrect results due to broadcasting. Please ensure they have the same size.\n",
      "  return F.mse_loss(input, target, reduction=self.reduction)\n",
      "Training Progress:   6%|███▊                                                            | 3/50 [02:56<46:14, 59.02s/it]"
     ]
    },
    {
     "name": "stdout",
     "output_type": "stream",
     "text": [
      "Epoch 3: Train Loss=62.2119, MAE=6.58, RMSE=8.58\n"
     ]
    },
    {
     "name": "stderr",
     "output_type": "stream",
     "text": [
      "C:\\Users\\twans\\anaconda3\\envs\\NBA\\Lib\\site-packages\\torch\\nn\\modules\\loss.py:608: UserWarning: Using a target size (torch.Size([1])) that is different to the input size (torch.Size([])). This will likely lead to incorrect results due to broadcasting. Please ensure they have the same size.\n",
      "  return F.mse_loss(input, target, reduction=self.reduction)\n",
      "Training Progress:   8%|█████                                                           | 4/50 [03:57<45:42, 59.63s/it]"
     ]
    },
    {
     "name": "stdout",
     "output_type": "stream",
     "text": [
      "Epoch 4: Train Loss=62.2917, MAE=6.61, RMSE=8.51\n"
     ]
    },
    {
     "name": "stderr",
     "output_type": "stream",
     "text": [
      "C:\\Users\\twans\\anaconda3\\envs\\NBA\\Lib\\site-packages\\torch\\nn\\modules\\loss.py:608: UserWarning: Using a target size (torch.Size([1])) that is different to the input size (torch.Size([])). This will likely lead to incorrect results due to broadcasting. Please ensure they have the same size.\n",
      "  return F.mse_loss(input, target, reduction=self.reduction)\n",
      "Training Progress:  10%|██████▍                                                         | 5/50 [04:57<44:48, 59.74s/it]"
     ]
    },
    {
     "name": "stdout",
     "output_type": "stream",
     "text": [
      "Epoch 5: Train Loss=62.2041, MAE=6.57, RMSE=8.57\n"
     ]
    },
    {
     "name": "stderr",
     "output_type": "stream",
     "text": [
      "C:\\Users\\twans\\anaconda3\\envs\\NBA\\Lib\\site-packages\\torch\\nn\\modules\\loss.py:608: UserWarning: Using a target size (torch.Size([1])) that is different to the input size (torch.Size([])). This will likely lead to incorrect results due to broadcasting. Please ensure they have the same size.\n",
      "  return F.mse_loss(input, target, reduction=self.reduction)\n",
      "Training Progress:  12%|███████▋                                                        | 6/50 [05:57<43:54, 59.88s/it]"
     ]
    },
    {
     "name": "stdout",
     "output_type": "stream",
     "text": [
      "Epoch 6: Train Loss=62.1452, MAE=6.62, RMSE=8.48\n"
     ]
    },
    {
     "name": "stderr",
     "output_type": "stream",
     "text": [
      "C:\\Users\\twans\\anaconda3\\envs\\NBA\\Lib\\site-packages\\torch\\nn\\modules\\loss.py:608: UserWarning: Using a target size (torch.Size([1])) that is different to the input size (torch.Size([])). This will likely lead to incorrect results due to broadcasting. Please ensure they have the same size.\n",
      "  return F.mse_loss(input, target, reduction=self.reduction)\n",
      "Training Progress:  14%|████████▉                                                       | 7/50 [07:05<44:44, 62.43s/it]"
     ]
    },
    {
     "name": "stdout",
     "output_type": "stream",
     "text": [
      "Epoch 7: Train Loss=62.2580, MAE=6.58, RMSE=8.47\n"
     ]
    },
    {
     "name": "stderr",
     "output_type": "stream",
     "text": [
      "C:\\Users\\twans\\anaconda3\\envs\\NBA\\Lib\\site-packages\\torch\\nn\\modules\\loss.py:608: UserWarning: Using a target size (torch.Size([1])) that is different to the input size (torch.Size([])). This will likely lead to incorrect results due to broadcasting. Please ensure they have the same size.\n",
      "  return F.mse_loss(input, target, reduction=self.reduction)\n",
      "Training Progress:  16%|██████████▏                                                     | 8/50 [08:11<44:35, 63.70s/it]"
     ]
    },
    {
     "name": "stdout",
     "output_type": "stream",
     "text": [
      "Epoch 8: Train Loss=62.4261, MAE=6.56, RMSE=8.54\n"
     ]
    },
    {
     "name": "stderr",
     "output_type": "stream",
     "text": [
      "C:\\Users\\twans\\anaconda3\\envs\\NBA\\Lib\\site-packages\\torch\\nn\\modules\\loss.py:608: UserWarning: Using a target size (torch.Size([1])) that is different to the input size (torch.Size([])). This will likely lead to incorrect results due to broadcasting. Please ensure they have the same size.\n",
      "  return F.mse_loss(input, target, reduction=self.reduction)\n",
      "Training Progress:  18%|███████████▌                                                    | 9/50 [09:16<43:49, 64.14s/it]"
     ]
    },
    {
     "name": "stdout",
     "output_type": "stream",
     "text": [
      "Epoch 9: Train Loss=62.1908, MAE=6.56, RMSE=8.57\n"
     ]
    },
    {
     "name": "stderr",
     "output_type": "stream",
     "text": [
      "C:\\Users\\twans\\anaconda3\\envs\\NBA\\Lib\\site-packages\\torch\\nn\\modules\\loss.py:608: UserWarning: Using a target size (torch.Size([1])) that is different to the input size (torch.Size([])). This will likely lead to incorrect results due to broadcasting. Please ensure they have the same size.\n",
      "  return F.mse_loss(input, target, reduction=self.reduction)\n",
      "Training Progress:  20%|████████████▌                                                  | 10/50 [10:22<43:11, 64.80s/it]"
     ]
    },
    {
     "name": "stdout",
     "output_type": "stream",
     "text": [
      "Epoch 10: Train Loss=62.1817, MAE=6.58, RMSE=8.51\n"
     ]
    },
    {
     "name": "stderr",
     "output_type": "stream",
     "text": [
      "C:\\Users\\twans\\anaconda3\\envs\\NBA\\Lib\\site-packages\\torch\\nn\\modules\\loss.py:608: UserWarning: Using a target size (torch.Size([1])) that is different to the input size (torch.Size([])). This will likely lead to incorrect results due to broadcasting. Please ensure they have the same size.\n",
      "  return F.mse_loss(input, target, reduction=self.reduction)\n",
      "Training Progress:  22%|█████████████▊                                                 | 11/50 [11:26<41:56, 64.53s/it]"
     ]
    },
    {
     "name": "stdout",
     "output_type": "stream",
     "text": [
      "Epoch 11: Train Loss=62.1251, MAE=6.65, RMSE=8.51\n"
     ]
    },
    {
     "name": "stderr",
     "output_type": "stream",
     "text": [
      "C:\\Users\\twans\\anaconda3\\envs\\NBA\\Lib\\site-packages\\torch\\nn\\modules\\loss.py:608: UserWarning: Using a target size (torch.Size([1])) that is different to the input size (torch.Size([])). This will likely lead to incorrect results due to broadcasting. Please ensure they have the same size.\n",
      "  return F.mse_loss(input, target, reduction=self.reduction)\n",
      "Training Progress:  24%|███████████████                                                | 12/50 [12:31<40:47, 64.42s/it]"
     ]
    },
    {
     "name": "stdout",
     "output_type": "stream",
     "text": [
      "Epoch 12: Train Loss=62.1216, MAE=6.59, RMSE=8.67\n"
     ]
    },
    {
     "name": "stderr",
     "output_type": "stream",
     "text": [
      "C:\\Users\\twans\\anaconda3\\envs\\NBA\\Lib\\site-packages\\torch\\nn\\modules\\loss.py:608: UserWarning: Using a target size (torch.Size([1])) that is different to the input size (torch.Size([])). This will likely lead to incorrect results due to broadcasting. Please ensure they have the same size.\n",
      "  return F.mse_loss(input, target, reduction=self.reduction)\n",
      "Training Progress:  26%|████████████████▍                                              | 13/50 [13:35<39:38, 64.28s/it]"
     ]
    },
    {
     "name": "stdout",
     "output_type": "stream",
     "text": [
      "Epoch 13: Train Loss=62.1212, MAE=6.58, RMSE=8.55\n"
     ]
    },
    {
     "name": "stderr",
     "output_type": "stream",
     "text": [
      "C:\\Users\\twans\\anaconda3\\envs\\NBA\\Lib\\site-packages\\torch\\nn\\modules\\loss.py:608: UserWarning: Using a target size (torch.Size([1])) that is different to the input size (torch.Size([])). This will likely lead to incorrect results due to broadcasting. Please ensure they have the same size.\n",
      "  return F.mse_loss(input, target, reduction=self.reduction)\n",
      "Training Progress:  28%|█████████████████▋                                             | 14/50 [14:38<38:30, 64.18s/it]"
     ]
    },
    {
     "name": "stdout",
     "output_type": "stream",
     "text": [
      "Epoch 14: Train Loss=62.1364, MAE=6.58, RMSE=8.53\n"
     ]
    },
    {
     "name": "stderr",
     "output_type": "stream",
     "text": [
      "C:\\Users\\twans\\anaconda3\\envs\\NBA\\Lib\\site-packages\\torch\\nn\\modules\\loss.py:608: UserWarning: Using a target size (torch.Size([1])) that is different to the input size (torch.Size([])). This will likely lead to incorrect results due to broadcasting. Please ensure they have the same size.\n",
      "  return F.mse_loss(input, target, reduction=self.reduction)\n",
      "Training Progress:  30%|██████████████████▉                                            | 15/50 [15:43<37:29, 64.26s/it]"
     ]
    },
    {
     "name": "stdout",
     "output_type": "stream",
     "text": [
      "Epoch 15: Train Loss=62.1585, MAE=6.62, RMSE=8.50\n"
     ]
    },
    {
     "name": "stderr",
     "output_type": "stream",
     "text": [
      "C:\\Users\\twans\\anaconda3\\envs\\NBA\\Lib\\site-packages\\torch\\nn\\modules\\loss.py:608: UserWarning: Using a target size (torch.Size([1])) that is different to the input size (torch.Size([])). This will likely lead to incorrect results due to broadcasting. Please ensure they have the same size.\n",
      "  return F.mse_loss(input, target, reduction=self.reduction)\n",
      "Training Progress:  32%|████████████████████▏                                          | 16/50 [16:47<36:27, 64.32s/it]"
     ]
    },
    {
     "name": "stdout",
     "output_type": "stream",
     "text": [
      "Epoch 16: Train Loss=62.1748, MAE=6.57, RMSE=8.53\n"
     ]
    },
    {
     "name": "stderr",
     "output_type": "stream",
     "text": [
      "C:\\Users\\twans\\anaconda3\\envs\\NBA\\Lib\\site-packages\\torch\\nn\\modules\\loss.py:608: UserWarning: Using a target size (torch.Size([1])) that is different to the input size (torch.Size([])). This will likely lead to incorrect results due to broadcasting. Please ensure they have the same size.\n",
      "  return F.mse_loss(input, target, reduction=self.reduction)\n",
      "Training Progress:  34%|█████████████████████▍                                         | 17/50 [17:48<34:47, 63.26s/it]"
     ]
    },
    {
     "name": "stdout",
     "output_type": "stream",
     "text": [
      "Epoch 17: Train Loss=62.1343, MAE=6.59, RMSE=8.54\n"
     ]
    },
    {
     "name": "stderr",
     "output_type": "stream",
     "text": [
      "C:\\Users\\twans\\anaconda3\\envs\\NBA\\Lib\\site-packages\\torch\\nn\\modules\\loss.py:608: UserWarning: Using a target size (torch.Size([1])) that is different to the input size (torch.Size([])). This will likely lead to incorrect results due to broadcasting. Please ensure they have the same size.\n",
      "  return F.mse_loss(input, target, reduction=self.reduction)\n",
      "Training Progress:  36%|██████████████████████▋                                        | 18/50 [18:49<33:21, 62.54s/it]"
     ]
    },
    {
     "name": "stdout",
     "output_type": "stream",
     "text": [
      "Epoch 18: Train Loss=62.1075, MAE=6.60, RMSE=8.45\n"
     ]
    },
    {
     "name": "stderr",
     "output_type": "stream",
     "text": [
      "C:\\Users\\twans\\anaconda3\\envs\\NBA\\Lib\\site-packages\\torch\\nn\\modules\\loss.py:608: UserWarning: Using a target size (torch.Size([1])) that is different to the input size (torch.Size([])). This will likely lead to incorrect results due to broadcasting. Please ensure they have the same size.\n",
      "  return F.mse_loss(input, target, reduction=self.reduction)\n",
      "Training Progress:  38%|███████████████████████▉                                       | 19/50 [19:54<32:42, 63.32s/it]"
     ]
    },
    {
     "name": "stdout",
     "output_type": "stream",
     "text": [
      "Epoch 19: Train Loss=62.2026, MAE=6.62, RMSE=8.44\n"
     ]
    },
    {
     "name": "stderr",
     "output_type": "stream",
     "text": [
      "C:\\Users\\twans\\anaconda3\\envs\\NBA\\Lib\\site-packages\\torch\\nn\\modules\\loss.py:608: UserWarning: Using a target size (torch.Size([1])) that is different to the input size (torch.Size([])). This will likely lead to incorrect results due to broadcasting. Please ensure they have the same size.\n",
      "  return F.mse_loss(input, target, reduction=self.reduction)\n",
      "Training Progress:  40%|█████████████████████████▏                                     | 20/50 [20:55<31:18, 62.60s/it]"
     ]
    },
    {
     "name": "stdout",
     "output_type": "stream",
     "text": [
      "Epoch 20: Train Loss=62.0983, MAE=6.85, RMSE=8.47\n"
     ]
    },
    {
     "name": "stderr",
     "output_type": "stream",
     "text": [
      "C:\\Users\\twans\\anaconda3\\envs\\NBA\\Lib\\site-packages\\torch\\nn\\modules\\loss.py:608: UserWarning: Using a target size (torch.Size([1])) that is different to the input size (torch.Size([])). This will likely lead to incorrect results due to broadcasting. Please ensure they have the same size.\n",
      "  return F.mse_loss(input, target, reduction=self.reduction)\n",
      "Training Progress:  42%|██████████████████████████▍                                    | 21/50 [21:55<29:56, 61.94s/it]"
     ]
    },
    {
     "name": "stdout",
     "output_type": "stream",
     "text": [
      "Epoch 21: Train Loss=62.0450, MAE=6.91, RMSE=8.50\n"
     ]
    }
   ],
   "source": [
    "# ------------------------------------------------------------\n",
    "# Main Workflow\n",
    "# ------------------------------------------------------------\n",
    "device = torch.device(\"cuda\" if torch.cuda.is_available() else \"cpu\")\n",
    "training_window = 4\n",
    "mae_scores, rmse_scores, years_tested = [], [], []\n",
    "available_years = sorted(df['game_year'].unique())\n",
    "\n",
    "for validate_year in available_years:\n",
    "    start_train_year = validate_year - training_window\n",
    "    if start_train_year < available_years[0]:\n",
    "        continue\n",
    "\n",
    "    train_mask = (df['game_year'] >= start_train_year) & (df['game_year'] < validate_year)\n",
    "    val_mask = (df['game_year'] == validate_year)\n",
    "\n",
    "    train_data = df[train_mask]\n",
    "    val_data = df[val_mask]\n",
    "\n",
    "    if len(train_data) == 0 or len(val_data) == 0:\n",
    "        continue\n",
    "\n",
    "    scaler = MinMaxScaler()\n",
    "    scaled_features = scaler.fit_transform(train_data[features].drop(columns=[\"player_id\"]))\n",
    "    scaled_features_val = scaler.transform(val_data[features].drop(columns=[\"player_id\"]))\n",
    "\n",
    "    train_scaled = pd.DataFrame(scaled_features, index=train_data.index, columns=features[1:])\n",
    "    train_scaled[\"player_id\"] = train_data[\"player_id\"].values\n",
    "\n",
    "    val_scaled = pd.DataFrame(scaled_features_val, index=val_data.index, columns=features[1:])\n",
    "    val_scaled[\"player_id\"] = val_data[\"player_id\"].values\n",
    "\n",
    "    train_dataset = PlayerSequenceDataset(train_scaled, train_data[target], \"player_id\")\n",
    "    val_dataset = PlayerSequenceDataset(val_scaled, val_data[target], \"player_id\")\n",
    "\n",
    "    train_loader = DataLoader(train_dataset, batch_size=32, shuffle=True)\n",
    "    val_loader = DataLoader(val_dataset, batch_size=32, shuffle=False)\n",
    "\n",
    "    input_size = train_loader.dataset[0][0].shape[1]\n",
    "    model = LSTMModel(input_size=input_size).to(device)\n",
    "    criterion = nn.MSELoss()\n",
    "    optimizer = torch.optim.Adam(model.parameters(), lr=0.001)\n",
    "\n",
    "    for epoch in tqdm(range(50), desc=\"Training Progress\"):\n",
    "        train_loss = train_model(model, train_loader, criterion, optimizer, device)\n",
    "        y_pred, y_val = evaluate_model(model, val_loader, device)\n",
    "        \n",
    "        mae = mean_absolute_error(y_val, y_pred)\n",
    "        rmse = np.sqrt(mean_squared_error(y_val, y_pred))\n",
    "        \n",
    "        tqdm.write(f\"Epoch {epoch+1}: Train Loss={train_loss:.4f}, MAE={mae:.2f}, RMSE={rmse:.2f}\")\n",
    "\n",
    "    mae_scores.append(mae)\n",
    "    rmse_scores.append(rmse)\n",
    "    years_tested.append(validate_year)\n"
   ]
  },
  {
   "cell_type": "code",
   "execution_count": null,
   "id": "3cc53c35-f94b-4854-8a52-dfe951f6bb73",
   "metadata": {},
   "outputs": [],
   "source": [
    "# ------------------------------------------------------------\n",
    "# Save Results\n",
    "# ------------------------------------------------------------\n",
    "results = pd.DataFrame({\n",
    "    'Actual': y_val,\n",
    "    'Predicted': y_pred\n",
    "})\n",
    "print(results.head())"
   ]
  },
  {
   "cell_type": "code",
   "execution_count": null,
   "id": "17d5556e-7ca3-4934-a8a7-d1964d257c62",
   "metadata": {},
   "outputs": [],
   "source": []
  },
  {
   "cell_type": "code",
   "execution_count": null,
   "id": "340e3dc3-bf15-40ee-b9b4-48718e8a2a23",
   "metadata": {},
   "outputs": [],
   "source": []
  }
 ],
 "metadata": {
  "kernelspec": {
   "display_name": "Python 3 (ipykernel)",
   "language": "python",
   "name": "python3"
  },
  "language_info": {
   "codemirror_mode": {
    "name": "ipython",
    "version": 3
   },
   "file_extension": ".py",
   "mimetype": "text/x-python",
   "name": "python",
   "nbconvert_exporter": "python",
   "pygments_lexer": "ipython3",
   "version": "3.12.4"
  }
 },
 "nbformat": 4,
 "nbformat_minor": 5
}
