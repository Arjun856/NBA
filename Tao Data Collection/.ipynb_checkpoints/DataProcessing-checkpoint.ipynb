{
 "cells": [
  {
   "cell_type": "code",
   "execution_count": 1,
   "id": "55b1c234-c547-4465-9b73-1bde5ff43063",
   "metadata": {},
   "outputs": [],
   "source": [
    "# -----------------------------------------\n",
    "# Import Packages\n",
    "# -----------------------------------------\n",
    "import os\n",
    "from datetime import datetime, timezone\n",
    "\n",
    "import sqlite3\n",
    "from sqlalchemy import create_engine\n",
    "from nba_api.stats.endpoints import playergamelogs"
   ]
  },
  {
   "cell_type": "code",
   "execution_count": 2,
   "id": "fcdb4e6d-96f0-439e-bc1c-3413853f1272",
   "metadata": {},
   "outputs": [
    {
     "name": "stdout",
     "output_type": "stream",
     "text": [
      "G League Data Deleted\n"
     ]
    }
   ],
   "source": [
    "# Delete G-League Data\n",
    "conn = sqlite3.connect(\"nba_box_scores.db\")\n",
    "# Execute the query\n",
    "cursor = conn.cursor()\n",
    "cursor.execute(\"DELETE FROM game_details WHERE GAME_ID > 2000000000;\")\n",
    "cursor.execute(\"DELETE FROM player_stats WHERE GAME_ID > 2000000000;\")\n",
    "cursor.execute(\"DELETE FROM team_stats WHERE GAME_ID > 2000000000;\")\n",
    "cursor.execute(\"DELETE FROM inactive_players WHERE GAME_ID > 2000000000;\")\n",
    "cursor.execute(\"DELETE FROM player_basic_stats WHERE GAME_ID > 2000000000;\")\n",
    "cursor.execute(\"DELETE FROM team_basic_stats WHERE GAME_ID > 2000000000;\")\n",
    "conn.commit()  # Commit changes to the database\n",
    "print(\"G League Data Deleted\")\n"
   ]
  }
 ],
 "metadata": {
  "kernelspec": {
   "display_name": "GPU_NBA",
   "language": "python",
   "name": "gpu_nba"
  },
  "language_info": {
   "codemirror_mode": {
    "name": "ipython",
    "version": 3
   },
   "file_extension": ".py",
   "mimetype": "text/x-python",
   "name": "python",
   "nbconvert_exporter": "python",
   "pygments_lexer": "ipython3",
   "version": "3.10.16"
  }
 },
 "nbformat": 4,
 "nbformat_minor": 5
}
