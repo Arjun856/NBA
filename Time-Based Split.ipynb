{
 "cells": [
  {
   "cell_type": "code",
   "execution_count": 3,
   "id": "aa8677d0-a05a-487c-aae9-77a5d40f6d69",
   "metadata": {},
   "outputs": [],
   "source": [
    "import pandas as pd\n",
    "from sqlalchemy import create_engine\n",
    "from sklearn.linear_model import LinearRegression\n",
    "from sklearn.metrics import mean_absolute_error, mean_squared_error\n",
    "import numpy as np"
   ]
  },
  {
   "cell_type": "code",
   "execution_count": 4,
   "id": "cdb423ed-bec8-426b-a3af-0afc75be928e",
   "metadata": {},
   "outputs": [],
   "source": [
    "# ------------------------------------------------------------\n",
    "# Configuration\n",
    "# ------------------------------------------------------------\n",
    "DB_NAME = \"nba_data.db\"\n",
    "DB_URI = f\"sqlite:///{DB_NAME}\"\n",
    "engine = create_engine(DB_URI, echo=False)"
   ]
  },
  {
   "cell_type": "code",
   "execution_count": 9,
   "id": "fd2a1e07-4640-4811-88d0-8517976c5dd2",
   "metadata": {},
   "outputs": [],
   "source": [
    "# ------------------------------------------------------------\n",
    "# Load Data\n",
    "# ------------------------------------------------------------\n",
    "df = pd.read_sql(\"SELECT * FROM player_game_features\", engine)\n",
    "\n",
    "# Sort by player_id and game_date to maintain chronological order per player\n",
    "df = df.sort_values(by=[\"player_id\", \"game_date\"])\n",
    "\n",
    "# We'll use the same features as before\n",
    "features = [\n",
    "    \"trailing_pts_5\",\n",
    "    \"trailing_min_5\",\n",
    "    \"trailing_fg_pct_5\",\n",
    "    \"trailing_ppm_5\",\n",
    "    \"trailing_fgm_5\",\n",
    "    \"ling_fga_5\"\n",
    "]\n",
    "\n",
    "# Drop rows with NaNs in features or target\n",
    "df = df.dropna(subset=features + [\"pts\"])\n",
    "\n",
    "X = df[features]\n",
    "y = df[\"pts\"]"
   ]
  },
  {
   "cell_type": "code",
   "execution_count": 10,
   "id": "c0d8d5c2-4577-4091-92dd-e3e2c0d5a026",
   "metadata": {},
   "outputs": [
    {
     "name": "stdout",
     "output_type": "stream",
     "text": [
      "Time-based validation results:\n",
      "MAE: 4.44\n",
      "MSE: 33.76\n",
      "RMSE: 5.81\n"
     ]
    }
   ],
   "source": [
    "# ------------------------------------------------------------\n",
    "# Time-Based Split\n",
    "# ------------------------------------------------------------\n",
    "# For a simple approach: use the first 80% of the data as \"past\" and the last 20% as \"future\".\n",
    "# In reality, you might want to split by actual date boundaries, not just index-based.\n",
    "split_index = int(len(df) * 0.8)\n",
    "X_train, X_val = X.iloc[:split_index], X.iloc[split_index:]\n",
    "y_train, y_val = y.iloc[:split_index], y.iloc[split_index:]\n",
    "\n",
    "model = LinearRegression()\n",
    "model.fit(X_train, y_train)\n",
    "y_pred = model.predict(X_val)\n",
    "\n",
    "mae = mean_absolute_error(y_val, y_pred)\n",
    "mse = mean_squared_error(y_val, y_pred)\n",
    "rmse = np.sqrt(mse)\n",
    "\n",
    "print(\"Time-based validation results:\")\n",
    "print(f\"MAE: {mae:.2f}\")\n",
    "print(f\"MSE: {mse:.2f}\")\n",
    "print(f\"RMSE: {rmse:.2f}\")"
   ]
  },
  {
   "cell_type": "code",
   "execution_count": null,
   "id": "75d195ea-be12-4ddf-9c45-de7de7169957",
   "metadata": {},
   "outputs": [],
   "source": []
  }
 ],
 "metadata": {
  "kernelspec": {
   "display_name": "Python 3 (ipykernel)",
   "language": "python",
   "name": "python3"
  },
  "language_info": {
   "codemirror_mode": {
    "name": "ipython",
    "version": 3
   },
   "file_extension": ".py",
   "mimetype": "text/x-python",
   "name": "python",
   "nbconvert_exporter": "python",
   "pygments_lexer": "ipython3",
   "version": "3.12.4"
  }
 },
 "nbformat": 4,
 "nbformat_minor": 5
}
